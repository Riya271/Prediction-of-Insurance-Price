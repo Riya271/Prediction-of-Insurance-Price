{
 "cells": [
  {
   "cell_type": "markdown",
   "id": "74f21d1d",
   "metadata": {},
   "source": [
    "# <div class=\"alert alert-block alert-info\"> <span style=\"font-family: Times New Roman\">Prediction of Insurance Price of an individual </span> </div>"
   ]
  },
  {
   "cell_type": "markdown",
   "id": "be6fecb6",
   "metadata": {},
   "source": [
    "### <div class=\"alert alert-block alert-success\"> <span  style= \"font-family: Times New Roman\">**Objective:** Predict the insurance price of an individual from the given data  </span> </div>"
   ]
  },
  {
   "cell_type": "markdown",
   "id": "78a2d38b",
   "metadata": {},
   "source": [
    "<div class=\"warning\" style='padding:0.1em; background-color:#70A0AF; color:#FFFFFF'>\n",
    "<span>\n",
    "<p style='margin-top:1em; text-align:left'>\n",
    "<b># Important: </b></p>\n",
    "<p style='margin-left:1em;'>\n",
    "- The tasks are given to guide the flow, Few tasks can also be considered optional if there is no scope or need.<br>\n",
    "- It is always encouraged to add your options to the list or flow as additional performance is always appreciated. <br>\n",
    "- Not only the results but also Visualization, Inferences, Reasons, Probabilities & Implementations are equally important. <br>\n",
    "- Please make sure the conclusions for the plots, results and summaries are mentioned in your own way. Add a natural comprehension to it thinking from a real time perspective. <br>\n",
    "- Its always encouraged to make this process a way of conveying a story as engaging as possible. <br>\n",
    "</p>\n",
    "</span>\n",
    "</div>"
   ]
  },
  {
   "cell_type": "markdown",
   "id": "8f6af06e",
   "metadata": {},
   "source": [
    "<div class=\"warning\" style='padding:0.1em; background-color:#E9D8FD; color:#69337A'>\n",
    "<span>\n",
    "<p style='margin-top:1em; text-align:left'>\n",
    "<b># Flow of Guided Project: </b></p>\n",
    "<p style='margin-left:1em;'>\n",
    "- There are certain tasks given here in order to understand and extract insights from the data. <br>\n",
    "- Carefully, Go through each step and provide proper reasons and explanations for the assumptions and actions.  \n",
    "</p>\n",
    "</span>\n",
    "</div>"
   ]
  },
  {
   "cell_type": "markdown",
   "id": "4cfb4b1e",
   "metadata": {},
   "source": [
    "## Table of Contents\n",
    "* [Import necessary libraries](#Import_necessary_libraries)\n",
    "* [Data loading](#Data_loading)\n",
    "* [Lets Start!!](#start)\n",
    "* [Data preprocessing](#Data_preprocessing)\n",
    "* [Exploratory Data Analysis, Statistical Inferences and Feature Engineering](#Statistical_Inferences)\n",
    "* [Assumptions](#Assumptions)\n",
    "* [Evaluation metrics](#Evaluation_metrics)\n",
    "* [Hyperparameter Tuning](#Hyperparameter_Tuning)\n",
    "* [Build a predictive system](#Build)"
   ]
  },
  {
   "cell_type": "markdown",
   "id": "c2d6a45c",
   "metadata": {},
   "source": [
    "# <div class=\"alert alert-block alert-success\"><span  style= \"font-family: Times New Roman\"><p style=\"text-align: center;\"> WEEK-I </p> </span> </div>"
   ]
  },
  {
   "cell_type": "markdown",
   "id": "8375a4e9",
   "metadata": {},
   "source": [
    "<div class=\"warning\" style='padding:0.1em;  background-color:#70A0AF; color:#FFFFFF'>\n",
    "<span>\n",
    "<p style='margin-top:1em; text-align:left'>\n",
    "<b># Interpretation of data: </b></p>\n",
    "<p style='margin-left:1em;'>\n",
    "    \n",
    "* age: age of primary beneficiary <br>\n",
    "\n",
    "* sex: insurance contractor gender, female, male <br>\n",
    "\n",
    "* bmi: Body mass index, providing an understanding of body, weights that are relatively high or low relative to height, objective index of body weight (kg/m^2) using the ratio of height to weight, ideally 18.5 to 24.9 <br>\n",
    "\n",
    "* children: Number of children covered by health insurance / Number of dependents <br>\n",
    "\n",
    "* smoker: Smoking <br>\n",
    "\n",
    "* region: the beneficiary's residential area in the US, northeast, southeast, southwest, northwest. <br>\n",
    "\n",
    "* charges: Individual medical costs billed by health insurance <br>\n",
    "</p>\n",
    "</span>\n",
    "</div>"
   ]
  },
  {
   "cell_type": "markdown",
   "id": "9ff38d9f",
   "metadata": {},
   "source": [
    "Download the dataset from here: <br>\n",
    "Click here: <br>\n",
    "<a href='https://drive.google.com/file/d/1SaRrBmZwxqUjpXHzCfYWo7L8ZQUpc7MX/view?usp=sharing' title='Google Drive'> Insurance data"
   ]
  },
  {
   "cell_type": "markdown",
   "id": "7b660b8a",
   "metadata": {},
   "source": [
    "##  <mark><span  style= \"font-family: Times New Roman\">Import necessary libraries</span> </mark> <a class=\"anchor\" id=\"Import_necessary_libraries\"></a>"
   ]
  },
  {
   "cell_type": "code",
   "execution_count": 1,
   "id": "0b892bc3",
   "metadata": {},
   "outputs": [],
   "source": [
    "import numpy as np \n",
    "import pandas as pd \n",
    "import matplotlib.pyplot as plt \n",
    "import seaborn as sns "
   ]
  },
  {
   "cell_type": "markdown",
   "id": "a673173b",
   "metadata": {},
   "source": [
    "##  <mark><span  style= \"font-family: Times New Roman\">Data Loading</span> </mark> <a class=\"anchor\" id=\"Data_loading\"></a>"
   ]
  },
  {
   "cell_type": "code",
   "execution_count": 2,
   "id": "18feaa1d",
   "metadata": {},
   "outputs": [],
   "source": [
    "df = pd.read_csv(r\"C:\\Users\\HP\\Downloads\\insurance.csv\")"
   ]
  },
  {
   "cell_type": "code",
   "execution_count": 3,
   "id": "cf52fbc9",
   "metadata": {},
   "outputs": [
    {
     "data": {
      "text/html": [
       "<div>\n",
       "<style scoped>\n",
       "    .dataframe tbody tr th:only-of-type {\n",
       "        vertical-align: middle;\n",
       "    }\n",
       "\n",
       "    .dataframe tbody tr th {\n",
       "        vertical-align: top;\n",
       "    }\n",
       "\n",
       "    .dataframe thead th {\n",
       "        text-align: right;\n",
       "    }\n",
       "</style>\n",
       "<table border=\"1\" class=\"dataframe\">\n",
       "  <thead>\n",
       "    <tr style=\"text-align: right;\">\n",
       "      <th></th>\n",
       "      <th>age</th>\n",
       "      <th>sex</th>\n",
       "      <th>bmi</th>\n",
       "      <th>children</th>\n",
       "      <th>smoker</th>\n",
       "      <th>region</th>\n",
       "      <th>charges</th>\n",
       "    </tr>\n",
       "  </thead>\n",
       "  <tbody>\n",
       "    <tr>\n",
       "      <th>0</th>\n",
       "      <td>19</td>\n",
       "      <td>female</td>\n",
       "      <td>27.900</td>\n",
       "      <td>0</td>\n",
       "      <td>yes</td>\n",
       "      <td>southwest</td>\n",
       "      <td>16884.92400</td>\n",
       "    </tr>\n",
       "    <tr>\n",
       "      <th>1</th>\n",
       "      <td>18</td>\n",
       "      <td>male</td>\n",
       "      <td>33.770</td>\n",
       "      <td>1</td>\n",
       "      <td>no</td>\n",
       "      <td>southeast</td>\n",
       "      <td>1725.55230</td>\n",
       "    </tr>\n",
       "    <tr>\n",
       "      <th>2</th>\n",
       "      <td>28</td>\n",
       "      <td>male</td>\n",
       "      <td>33.000</td>\n",
       "      <td>3</td>\n",
       "      <td>no</td>\n",
       "      <td>southeast</td>\n",
       "      <td>4449.46200</td>\n",
       "    </tr>\n",
       "    <tr>\n",
       "      <th>3</th>\n",
       "      <td>33</td>\n",
       "      <td>male</td>\n",
       "      <td>22.705</td>\n",
       "      <td>0</td>\n",
       "      <td>no</td>\n",
       "      <td>northwest</td>\n",
       "      <td>21984.47061</td>\n",
       "    </tr>\n",
       "    <tr>\n",
       "      <th>4</th>\n",
       "      <td>32</td>\n",
       "      <td>male</td>\n",
       "      <td>28.880</td>\n",
       "      <td>0</td>\n",
       "      <td>no</td>\n",
       "      <td>northwest</td>\n",
       "      <td>3866.85520</td>\n",
       "    </tr>\n",
       "  </tbody>\n",
       "</table>\n",
       "</div>"
      ],
      "text/plain": [
       "   age     sex     bmi  children smoker     region      charges\n",
       "0   19  female  27.900         0    yes  southwest  16884.92400\n",
       "1   18    male  33.770         1     no  southeast   1725.55230\n",
       "2   28    male  33.000         3     no  southeast   4449.46200\n",
       "3   33    male  22.705         0     no  northwest  21984.47061\n",
       "4   32    male  28.880         0     no  northwest   3866.85520"
      ]
     },
     "execution_count": 3,
     "metadata": {},
     "output_type": "execute_result"
    }
   ],
   "source": [
    "df.head()"
   ]
  },
  {
   "cell_type": "markdown",
   "id": "49c5e9b3",
   "metadata": {},
   "source": [
    "##  <mark><span  style= \"font-family: Times New Roman\">Lets Start!!</span> </mark> <a class=\"anchor\" id=\"start\"></a>"
   ]
  },
  {
   "cell_type": "markdown",
   "id": "e2db0098",
   "metadata": {},
   "source": [
    "<div class=\"warning\" style='padding:0.1em; background-color:#E9D8FD; color:#69337A'>\n",
    "<span>\n",
    "<p style='margin-top:1em; text-align:left'>\n",
    "<b># Question: </b></p>\n",
    "<p style='margin-left:1em;'>\n",
    "- Using info(), Check the no of non-null values? <br>\n",
    "- Also check if the data is in the convenient type. If not, change it to your convenience. <br>\n",
    "- You may encode the data here itself, if you wish to!\n",
    "</p>\n",
    "</span>\n",
    "</div>"
   ]
  },
  {
   "cell_type": "code",
   "execution_count": 4,
   "id": "02f59d74",
   "metadata": {},
   "outputs": [
    {
     "name": "stdout",
     "output_type": "stream",
     "text": [
      "<class 'pandas.core.frame.DataFrame'>\n",
      "RangeIndex: 1338 entries, 0 to 1337\n",
      "Data columns (total 7 columns):\n",
      " #   Column    Non-Null Count  Dtype  \n",
      "---  ------    --------------  -----  \n",
      " 0   age       1338 non-null   int64  \n",
      " 1   sex       1338 non-null   object \n",
      " 2   bmi       1338 non-null   float64\n",
      " 3   children  1338 non-null   int64  \n",
      " 4   smoker    1338 non-null   object \n",
      " 5   region    1338 non-null   object \n",
      " 6   charges   1338 non-null   float64\n",
      "dtypes: float64(2), int64(2), object(3)\n",
      "memory usage: 73.3+ KB\n"
     ]
    }
   ],
   "source": [
    "df.info()"
   ]
  },
  {
   "cell_type": "markdown",
   "id": "3e14804b",
   "metadata": {},
   "source": [
    "##  <mark><span  style= \"font-family: Times New Roman\">Data preprocessing </span> </mark> <a class=\"anchor\" id=\"Data_preprocessing\"></a>"
   ]
  },
  {
   "cell_type": "markdown",
   "id": "7d71ceb0",
   "metadata": {},
   "source": [
    "<div class=\"warning\" style='padding:0.1em; background-color:#E9D8FD; color:#69337A'>\n",
    "<span>\n",
    "<p style='margin-top:1em; text-align:left'>\n",
    "<b># Question: </b></p>\n",
    "<p style='margin-left:1em;'>\n",
    "<pre>\n",
    "- If there are any missing values encountered above: <br>\n",
    "     Impute or remove the null data and provide the reason for that <br>\n",
    "- Else: <br>\n",
    "     Lets move ahead!!\n",
    "</pre>\n",
    "</p>\n",
    "</span>\n",
    "</div>"
   ]
  },
  {
   "cell_type": "code",
   "execution_count": 5,
   "id": "773db03e",
   "metadata": {},
   "outputs": [
    {
     "data": {
      "text/plain": [
       "age         False\n",
       "sex         False\n",
       "bmi         False\n",
       "children    False\n",
       "smoker      False\n",
       "region      False\n",
       "charges     False\n",
       "dtype: bool"
      ]
     },
     "execution_count": 5,
     "metadata": {},
     "output_type": "execute_result"
    }
   ],
   "source": [
    "df.isnull().any()"
   ]
  },
  {
   "cell_type": "markdown",
   "id": "a2e53c37",
   "metadata": {},
   "source": [
    "##  <mark><span  style= \"font-family: Times New Roman\">Exploratory Data Analysis, Statistical Inferences and Feature Engineering </span> </mark> <a class=\"anchor\" id=\"Statistical_Inferences\"></a>"
   ]
  },
  {
   "cell_type": "code",
   "execution_count": null,
   "id": "78527ced",
   "metadata": {},
   "outputs": [],
   "source": []
  },
  {
   "cell_type": "markdown",
   "id": "f3eba15c",
   "metadata": {},
   "source": [
    "<div class=\"warning\" style='padding:0.1em; background-color:#70A0AF; color:#FFFFFF'>\n",
    "<span>\n",
    "<p style='margin-top:1em; text-align:left'>\n",
    "<b># Column: </b></p>\n",
    "<p style='margin-left:1em;'>\n",
    "<pre>\n",
    "Lets analyse 'age' first:\n",
    "</pre>\n",
    "</p>\n",
    "</span>\n",
    "</div>"
   ]
  },
  {
   "cell_type": "code",
   "execution_count": 6,
   "id": "c6ec3eec",
   "metadata": {},
   "outputs": [
    {
     "data": {
      "text/html": [
       "<svg  width=\"220\" height=\"55\"><rect x=\"0\" y=\"0\" width=\"55\" height=\"55\" style=\"fill:#645caa;stroke-width:2;stroke:rgb(255,255,255)\"/><rect x=\"55\" y=\"0\" width=\"55\" height=\"55\" style=\"fill:#a084ca;stroke-width:2;stroke:rgb(255,255,255)\"/><rect x=\"110\" y=\"0\" width=\"55\" height=\"55\" style=\"fill:#bface0;stroke-width:2;stroke:rgb(255,255,255)\"/><rect x=\"165\" y=\"0\" width=\"55\" height=\"55\" style=\"fill:#ebc7e8;stroke-width:2;stroke:rgb(255,255,255)\"/></svg>"
      ],
      "text/plain": [
       "[(0.39215686274509803, 0.3607843137254902, 0.6666666666666666),\n",
       " (0.6274509803921569, 0.5176470588235295, 0.792156862745098),\n",
       " (0.7490196078431373, 0.6745098039215687, 0.8784313725490196),\n",
       " (0.9215686274509803, 0.7803921568627451, 0.9098039215686274)]"
      ]
     },
     "execution_count": 6,
     "metadata": {},
     "output_type": "execute_result"
    }
   ],
   "source": [
    "colors = ['#645CAA','#A084CA','#BFACE0','#EBC7E8']\n",
    "sns.color_palette(colors)"
   ]
  },
  {
   "cell_type": "markdown",
   "id": "49089faa",
   "metadata": {},
   "source": [
    "<div class=\"warning\" style='padding:0.1em; background-color:#E9D8FD; color:#69337A'>\n",
    "<span>\n",
    "<p style='margin-top:1em; text-align:left'>\n",
    "<b># Question: </b></p>\n",
    "<p style='margin-left:1em;'>\n",
    "<pre>\n",
    "Create a new feature named 'age group' and categorize them as following: \n",
    "\n",
    "    - <10 : 'Less than 10' (10 is included)\n",
    "    - between 10 and 20 (10 is not included, 20 is included) : '10-20'\n",
    "    - between 20 and 30 : '20-30'\n",
    "    - between 30 and 40 : '30-40'\n",
    "    - between 40 and 50 : '40-50'\n",
    "    - between 50 and 60 : '50-60'\n",
    "    - from 60 upto max (not including 60) : '>60'\n",
    "    \n",
    "    Use pandas.cut() for converting into bins\n",
    "</pre>\n",
    "</p>\n",
    "</span>\n",
    "</div>"
   ]
  },
  {
   "cell_type": "code",
   "execution_count": 7,
   "id": "46e080b0",
   "metadata": {},
   "outputs": [
    {
     "name": "stdout",
     "output_type": "stream",
     "text": [
      "      age     sex     bmi  children smoker     region      charges age group\n",
      "0      19  female  27.900         0    yes  southwest  16884.92400     10-20\n",
      "1      18    male  33.770         1     no  southeast   1725.55230     10-20\n",
      "2      28    male  33.000         3     no  southeast   4449.46200     20-30\n",
      "3      33    male  22.705         0     no  northwest  21984.47061     30-40\n",
      "4      32    male  28.880         0     no  northwest   3866.85520     30-40\n",
      "...   ...     ...     ...       ...    ...        ...          ...       ...\n",
      "1333   50    male  30.970         3     no  northwest  10600.54830     50-60\n",
      "1334   18  female  31.920         0     no  northeast   2205.98080     10-20\n",
      "1335   18  female  36.850         0     no  southeast   1629.83350     10-20\n",
      "1336   21  female  25.800         0     no  southwest   2007.94500     20-30\n",
      "1337   61  female  29.070         0    yes  northwest  29141.36030       >60\n",
      "\n",
      "[1338 rows x 8 columns]\n"
     ]
    }
   ],
   "source": [
    "#define the bins first \n",
    "bins=[0,10,20,30,40,50,60,float('inf')]\n",
    "\n",
    "#define the labels \n",
    "labels = ['Less than 10', '10-20', '20-30', '30-40', '40-50', '50-60', '>60']\n",
    "\n",
    "#categorize the ages into groups using pd.cut\n",
    "df['age group']= pd.cut(df['age'],bins = bins, labels = labels, right= False)\n",
    "\n",
    "#display the dataframe with new column 'age group'\n",
    "print(df)"
   ]
  },
  {
   "cell_type": "markdown",
   "id": "6a7f4748",
   "metadata": {},
   "source": [
    "### Using describe(), Answer the following questions: <br>"
   ]
  },
  {
   "cell_type": "code",
   "execution_count": 8,
   "id": "1130566c",
   "metadata": {},
   "outputs": [
    {
     "data": {
      "text/html": [
       "<div>\n",
       "<style scoped>\n",
       "    .dataframe tbody tr th:only-of-type {\n",
       "        vertical-align: middle;\n",
       "    }\n",
       "\n",
       "    .dataframe tbody tr th {\n",
       "        vertical-align: top;\n",
       "    }\n",
       "\n",
       "    .dataframe thead th {\n",
       "        text-align: right;\n",
       "    }\n",
       "</style>\n",
       "<table border=\"1\" class=\"dataframe\">\n",
       "  <thead>\n",
       "    <tr style=\"text-align: right;\">\n",
       "      <th></th>\n",
       "      <th>age</th>\n",
       "      <th>bmi</th>\n",
       "      <th>children</th>\n",
       "      <th>charges</th>\n",
       "    </tr>\n",
       "  </thead>\n",
       "  <tbody>\n",
       "    <tr>\n",
       "      <th>count</th>\n",
       "      <td>1338.000000</td>\n",
       "      <td>1338.000000</td>\n",
       "      <td>1338.000000</td>\n",
       "      <td>1338.000000</td>\n",
       "    </tr>\n",
       "    <tr>\n",
       "      <th>mean</th>\n",
       "      <td>39.207025</td>\n",
       "      <td>30.663397</td>\n",
       "      <td>1.094918</td>\n",
       "      <td>13270.422265</td>\n",
       "    </tr>\n",
       "    <tr>\n",
       "      <th>std</th>\n",
       "      <td>14.049960</td>\n",
       "      <td>6.098187</td>\n",
       "      <td>1.205493</td>\n",
       "      <td>12110.011237</td>\n",
       "    </tr>\n",
       "    <tr>\n",
       "      <th>min</th>\n",
       "      <td>18.000000</td>\n",
       "      <td>15.960000</td>\n",
       "      <td>0.000000</td>\n",
       "      <td>1121.873900</td>\n",
       "    </tr>\n",
       "    <tr>\n",
       "      <th>25%</th>\n",
       "      <td>27.000000</td>\n",
       "      <td>26.296250</td>\n",
       "      <td>0.000000</td>\n",
       "      <td>4740.287150</td>\n",
       "    </tr>\n",
       "    <tr>\n",
       "      <th>50%</th>\n",
       "      <td>39.000000</td>\n",
       "      <td>30.400000</td>\n",
       "      <td>1.000000</td>\n",
       "      <td>9382.033000</td>\n",
       "    </tr>\n",
       "    <tr>\n",
       "      <th>75%</th>\n",
       "      <td>51.000000</td>\n",
       "      <td>34.693750</td>\n",
       "      <td>2.000000</td>\n",
       "      <td>16639.912515</td>\n",
       "    </tr>\n",
       "    <tr>\n",
       "      <th>max</th>\n",
       "      <td>64.000000</td>\n",
       "      <td>53.130000</td>\n",
       "      <td>5.000000</td>\n",
       "      <td>63770.428010</td>\n",
       "    </tr>\n",
       "  </tbody>\n",
       "</table>\n",
       "</div>"
      ],
      "text/plain": [
       "               age          bmi     children       charges\n",
       "count  1338.000000  1338.000000  1338.000000   1338.000000\n",
       "mean     39.207025    30.663397     1.094918  13270.422265\n",
       "std      14.049960     6.098187     1.205493  12110.011237\n",
       "min      18.000000    15.960000     0.000000   1121.873900\n",
       "25%      27.000000    26.296250     0.000000   4740.287150\n",
       "50%      39.000000    30.400000     1.000000   9382.033000\n",
       "75%      51.000000    34.693750     2.000000  16639.912515\n",
       "max      64.000000    53.130000     5.000000  63770.428010"
      ]
     },
     "execution_count": 8,
     "metadata": {},
     "output_type": "execute_result"
    }
   ],
   "source": [
    "df.describe()"
   ]
  },
  {
   "cell_type": "code",
   "execution_count": null,
   "id": "f6ad2910",
   "metadata": {},
   "outputs": [],
   "source": []
  },
  {
   "cell_type": "markdown",
   "id": "9cf311b0",
   "metadata": {},
   "source": [
    "<div class=\"warning\" style='padding:0.1em; background-color:#E9D8FD; color:#69337A'>\n",
    "<span>\n",
    "<p style='margin-top:1em; text-align:left'>\n",
    "<b># Question: </b></p>\n",
    "<p style='margin-left:1em;'>\n",
    "<pre> - Given for 75%, age is 51, what does that mean?    \n",
    "</pre>\n",
    "</p>\n",
    "</span>\n",
    "</div>"
   ]
  },
  {
   "cell_type": "code",
   "execution_count": 9,
   "id": "77d14f0a",
   "metadata": {},
   "outputs": [
    {
     "ename": "SyntaxError",
     "evalue": "invalid syntax (457870153.py, line 1)",
     "output_type": "error",
     "traceback": [
      "\u001b[1;36m  Input \u001b[1;32mIn [9]\u001b[1;36m\u001b[0m\n\u001b[1;33m    it means the 75% of the peoples have age under or equal to 51\u001b[0m\n\u001b[1;37m       ^\u001b[0m\n\u001b[1;31mSyntaxError\u001b[0m\u001b[1;31m:\u001b[0m invalid syntax\n"
     ]
    }
   ],
   "source": [
    "it means the 75% of the peoples have age under or equal to 51 "
   ]
  },
  {
   "cell_type": "markdown",
   "id": "1084f731",
   "metadata": {},
   "source": [
    "<div class=\"warning\" style='padding:0.1em; background-color:#E9D8FD; color:#69337A'>\n",
    "<span>\n",
    "<p style='margin-top:1em; text-align:left'>\n",
    "<b># Question: </b></p>\n",
    "<p style='margin-left:1em;'>\n",
    "<pre> - How many people are aged above or equal to 75%?\n",
    "</pre>\n",
    "</p>\n",
    "</span>\n",
    "</div>"
   ]
  },
  {
   "cell_type": "code",
   "execution_count": 10,
   "id": "730a55ee",
   "metadata": {},
   "outputs": [
    {
     "ename": "KeyError",
     "evalue": "\"None of [Int64Index([19, 18, 28, 33, 32, 31, 46, 37, 37, 60,\\n            ...\\n            23, 52, 57, 23, 52, 50, 18, 18, 21, 61],\\n           dtype='int64', length=1338)] are in the [columns]\"",
     "output_type": "error",
     "traceback": [
      "\u001b[1;31m---------------------------------------------------------------------------\u001b[0m",
      "\u001b[1;31mKeyError\u001b[0m                                  Traceback (most recent call last)",
      "Input \u001b[1;32mIn [10]\u001b[0m, in \u001b[0;36m<cell line: 5>\u001b[1;34m()\u001b[0m\n\u001b[0;32m      2\u001b[0m seventyfifth_percentile \u001b[38;5;241m=\u001b[39m df[\u001b[38;5;124m'\u001b[39m\u001b[38;5;124mage\u001b[39m\u001b[38;5;124m'\u001b[39m]\u001b[38;5;241m.\u001b[39mquantile(\u001b[38;5;241m0.75\u001b[39m)\n\u001b[0;32m      4\u001b[0m \u001b[38;5;66;03m#count the people above or equal to the 75% percentile\u001b[39;00m\n\u001b[1;32m----> 5\u001b[0m people_above_75_percentile \u001b[38;5;241m=\u001b[39m \u001b[43mdf\u001b[49m\u001b[43m[\u001b[49m\u001b[43mdf\u001b[49m\u001b[43m[\u001b[49m\u001b[38;5;124;43m'\u001b[39;49m\u001b[38;5;124;43mage\u001b[39;49m\u001b[38;5;124;43m'\u001b[39;49m\u001b[43m]\u001b[49m\u001b[43m]\u001b[49m\u001b[38;5;241m>\u001b[39m\u001b[38;5;241m=\u001b[39mseventfifth_percentile\u001b[38;5;241m.\u001b[39msum[\u001b[38;5;241m0\u001b[39m]\n\u001b[0;32m      7\u001b[0m \u001b[38;5;28mprint\u001b[39m(\u001b[38;5;124m\"\u001b[39m\u001b[38;5;124mNumber of people above 75\u001b[39m\u001b[38;5;124m%\u001b[39m\u001b[38;5;124m :\u001b[39m\u001b[38;5;124m\"\u001b[39m, people_above_75_percentile)\n",
      "File \u001b[1;32m~\\anaconda3\\anaconda\\lib\\site-packages\\pandas\\core\\frame.py:3511\u001b[0m, in \u001b[0;36mDataFrame.__getitem__\u001b[1;34m(self, key)\u001b[0m\n\u001b[0;32m   3509\u001b[0m     \u001b[38;5;28;01mif\u001b[39;00m is_iterator(key):\n\u001b[0;32m   3510\u001b[0m         key \u001b[38;5;241m=\u001b[39m \u001b[38;5;28mlist\u001b[39m(key)\n\u001b[1;32m-> 3511\u001b[0m     indexer \u001b[38;5;241m=\u001b[39m \u001b[38;5;28;43mself\u001b[39;49m\u001b[38;5;241;43m.\u001b[39;49m\u001b[43mcolumns\u001b[49m\u001b[38;5;241;43m.\u001b[39;49m\u001b[43m_get_indexer_strict\u001b[49m\u001b[43m(\u001b[49m\u001b[43mkey\u001b[49m\u001b[43m,\u001b[49m\u001b[43m \u001b[49m\u001b[38;5;124;43m\"\u001b[39;49m\u001b[38;5;124;43mcolumns\u001b[39;49m\u001b[38;5;124;43m\"\u001b[39;49m\u001b[43m)\u001b[49m[\u001b[38;5;241m1\u001b[39m]\n\u001b[0;32m   3513\u001b[0m \u001b[38;5;66;03m# take() does not accept boolean indexers\u001b[39;00m\n\u001b[0;32m   3514\u001b[0m \u001b[38;5;28;01mif\u001b[39;00m \u001b[38;5;28mgetattr\u001b[39m(indexer, \u001b[38;5;124m\"\u001b[39m\u001b[38;5;124mdtype\u001b[39m\u001b[38;5;124m\"\u001b[39m, \u001b[38;5;28;01mNone\u001b[39;00m) \u001b[38;5;241m==\u001b[39m \u001b[38;5;28mbool\u001b[39m:\n",
      "File \u001b[1;32m~\\anaconda3\\anaconda\\lib\\site-packages\\pandas\\core\\indexes\\base.py:5782\u001b[0m, in \u001b[0;36mIndex._get_indexer_strict\u001b[1;34m(self, key, axis_name)\u001b[0m\n\u001b[0;32m   5779\u001b[0m \u001b[38;5;28;01melse\u001b[39;00m:\n\u001b[0;32m   5780\u001b[0m     keyarr, indexer, new_indexer \u001b[38;5;241m=\u001b[39m \u001b[38;5;28mself\u001b[39m\u001b[38;5;241m.\u001b[39m_reindex_non_unique(keyarr)\n\u001b[1;32m-> 5782\u001b[0m \u001b[38;5;28;43mself\u001b[39;49m\u001b[38;5;241;43m.\u001b[39;49m\u001b[43m_raise_if_missing\u001b[49m\u001b[43m(\u001b[49m\u001b[43mkeyarr\u001b[49m\u001b[43m,\u001b[49m\u001b[43m \u001b[49m\u001b[43mindexer\u001b[49m\u001b[43m,\u001b[49m\u001b[43m \u001b[49m\u001b[43maxis_name\u001b[49m\u001b[43m)\u001b[49m\n\u001b[0;32m   5784\u001b[0m keyarr \u001b[38;5;241m=\u001b[39m \u001b[38;5;28mself\u001b[39m\u001b[38;5;241m.\u001b[39mtake(indexer)\n\u001b[0;32m   5785\u001b[0m \u001b[38;5;28;01mif\u001b[39;00m \u001b[38;5;28misinstance\u001b[39m(key, Index):\n\u001b[0;32m   5786\u001b[0m     \u001b[38;5;66;03m# GH 42790 - Preserve name from an Index\u001b[39;00m\n",
      "File \u001b[1;32m~\\anaconda3\\anaconda\\lib\\site-packages\\pandas\\core\\indexes\\base.py:5842\u001b[0m, in \u001b[0;36mIndex._raise_if_missing\u001b[1;34m(self, key, indexer, axis_name)\u001b[0m\n\u001b[0;32m   5840\u001b[0m     \u001b[38;5;28;01mif\u001b[39;00m use_interval_msg:\n\u001b[0;32m   5841\u001b[0m         key \u001b[38;5;241m=\u001b[39m \u001b[38;5;28mlist\u001b[39m(key)\n\u001b[1;32m-> 5842\u001b[0m     \u001b[38;5;28;01mraise\u001b[39;00m \u001b[38;5;167;01mKeyError\u001b[39;00m(\u001b[38;5;124mf\u001b[39m\u001b[38;5;124m\"\u001b[39m\u001b[38;5;124mNone of [\u001b[39m\u001b[38;5;132;01m{\u001b[39;00mkey\u001b[38;5;132;01m}\u001b[39;00m\u001b[38;5;124m] are in the [\u001b[39m\u001b[38;5;132;01m{\u001b[39;00maxis_name\u001b[38;5;132;01m}\u001b[39;00m\u001b[38;5;124m]\u001b[39m\u001b[38;5;124m\"\u001b[39m)\n\u001b[0;32m   5844\u001b[0m not_found \u001b[38;5;241m=\u001b[39m \u001b[38;5;28mlist\u001b[39m(ensure_index(key)[missing_mask\u001b[38;5;241m.\u001b[39mnonzero()[\u001b[38;5;241m0\u001b[39m]]\u001b[38;5;241m.\u001b[39munique())\n\u001b[0;32m   5845\u001b[0m \u001b[38;5;28;01mraise\u001b[39;00m \u001b[38;5;167;01mKeyError\u001b[39;00m(\u001b[38;5;124mf\u001b[39m\u001b[38;5;124m\"\u001b[39m\u001b[38;5;132;01m{\u001b[39;00mnot_found\u001b[38;5;132;01m}\u001b[39;00m\u001b[38;5;124m not in index\u001b[39m\u001b[38;5;124m\"\u001b[39m)\n",
      "\u001b[1;31mKeyError\u001b[0m: \"None of [Int64Index([19, 18, 28, 33, 32, 31, 46, 37, 37, 60,\\n            ...\\n            23, 52, 57, 23, 52, 50, 18, 18, 21, 61],\\n           dtype='int64', length=1338)] are in the [columns]\""
     ]
    }
   ],
   "source": [
    "#calculate the 75% of the ages \n",
    "seventyfifth_percentile = df['age'].quantile(0.75)\n",
    "\n",
    "#count the people above or equal to the 75% percentile\n",
    "people_above_75_percentile = df[df['age']]>=seventfifth_percentile.sum[0]\n",
    "\n",
    "print(\"Number of people above 75% :\", people_above_75_percentile)\n"
   ]
  },
  {
   "cell_type": "markdown",
   "id": "4b40cc59",
   "metadata": {},
   "source": [
    "<div class=\"warning\" style='padding:0.1em; background-color:#E9D8FD; color:#69337A'>\n",
    "<span>\n",
    "<p style='margin-top:1em; text-align:left'>\n",
    "<b># Question: </b></p>\n",
    "<p style='margin-left:1em;'>\n",
    "<pre> - What count and percentile of people are aged above 45?\n",
    "\n",
    "Note: Round your answer upto 2 digits\n",
    "</pre>\n",
    "</p>\n",
    "</span>\n",
    "</div>"
   ]
  },
  {
   "cell_type": "code",
   "execution_count": 11,
   "id": "f8fb421d",
   "metadata": {},
   "outputs": [
    {
     "name": "stdout",
     "output_type": "stream",
     "text": [
      "Number of peoples aged above 45 : 500\n",
      "Percentile of peoples aged above 45 : 37.369207772795214\n"
     ]
    }
   ],
   "source": [
    "#count the people aged above 45\n",
    "people_above_45 = (df['age']>45).sum()\n",
    "\n",
    "#percentile of the people above aged 45 \n",
    "percentile_above_45 = (df['age']>45).mean()*100\n",
    "\n",
    "print(\"Number of peoples aged above 45 :\", people_above_45)\n",
    "print(\"Percentile of peoples aged above 45 :\", percentile_above_45) "
   ]
  },
  {
   "cell_type": "markdown",
   "id": "59ea867e",
   "metadata": {},
   "source": [
    "<div class=\"warning\" style='padding:0.1em; background-color:#E9D8FD; color:#69337A'>\n",
    "<span>\n",
    "<p style='margin-top:1em; text-align:left'>\n",
    "<b># Question: </b></p>\n",
    "<p style='margin-left:1em;'>\n",
    "<pre> - Which group of people has highest amount of smokers?\n",
    "</pre>\n",
    "</p>\n",
    "</span>\n",
    "</div>"
   ]
  },
  {
   "cell_type": "code",
   "execution_count": 12,
   "id": "73526287",
   "metadata": {},
   "outputs": [
    {
     "name": "stdout",
     "output_type": "stream",
     "text": [
      "Age group with the highest number of smokers: 40-50\n"
     ]
    }
   ],
   "source": [
    "# Group by 'age group' and count the occurrences of 'yes' in the 'smokers' column\n",
    "smokers_count_by_agegroup = df[df['smoker'] == 'yes'].groupby('age group').size()\n",
    "\n",
    "# Find the age group with the highest number of smokers\n",
    "highest_smokers_age_group = smokers_count_by_agegroup.idxmax()\n",
    "\n",
    "print(\"Age group with the highest number of smokers:\", highest_smokers_age_group)"
   ]
  },
  {
   "cell_type": "markdown",
   "id": "a1b4dc8a",
   "metadata": {},
   "source": [
    "<div class=\"warning\" style='padding:0.1em; background-color:#E9D8FD; color:#69337A'>\n",
    "<span>\n",
    "<p style='margin-top:1em; text-align:left'>\n",
    "<b># Sample plot: </b></p>\n",
    "<p style='margin-left:1em;'>\n",
    "<pre> - Using sns.countplot() and plt.pie(), plot a count plot and pie plot for age group.\n",
    "</pre>\n",
    "</p>\n",
    "</span>\n",
    "</div>"
   ]
  },
  {
   "cell_type": "code",
   "execution_count": null,
   "id": "c22cd6db",
   "metadata": {},
   "outputs": [],
   "source": [
    "column = 'age group'\n",
    "\n",
    "# figsize is given along with the rows=1 and columns=3\n",
    "fig,axes = plt.subplots(1,2,figsize=(18,5))\n",
    "# super title is given with fontsize\n",
    "fig.suptitle('Age group',fontsize=20,fontstyle='oblique')\n",
    "\n",
    "# Countplot is plotted, axes[0] gives the sequential plot number, color is given from the colors list\n",
    "sns.countplot(ax=axes[0],x=column,data=df)\n",
    "# Title name is formatted with custom fontsize\n",
    "axes[0].set_title('Count plot of {}'.format(column),fontstyle='italic',fontsize=15,color='black')\n",
    "\n",
    "# pie plot in second plot of defined subplots\n",
    "axes[1] = plt.pie(df[column].value_counts().values,labels=df[column].value_counts().index,radius=1.2,autopct='%1.2f%%')\n",
    "plt.title('Count of {}s'.format(column))\n",
    "plt.show()"
   ]
  },
  {
   "cell_type": "markdown",
   "id": "220a72f9",
   "metadata": {},
   "source": [
    "<div class=\"warning\" style='padding:0.1em; background-color:#E9D8FD; color:#69337A'>\n",
    "<span>\n",
    "<p style='margin-top:1em; text-align:left'>\n",
    "<b># Question: </b></p>\n",
    "<p style='margin-left:1em;'>\n",
    "<pre> \n",
    "- Observe the above plot and format given, Now..\n",
    "- Define a function giving input as column name such as def plot_data(column_name):\n",
    "- In that, \n",
    "- Using sns.histplot(), sns.distplot(), sns.boxplot() plot the histogram plot, distribution plot and box plot for the age feature\n",
    "\n",
    "### Use the below code for histogram and distribution plot.\n",
    "Hint: \n",
    "sns.histplot(ax=axes[0],x=column,data=df,color=colors[1])\n",
    "axes[0].set_title('Histogram of {}'.format(column),fontstyle='italic',fontsize=15,color='black')\n",
    "\n",
    "sns.distplot(ax=axes[1],x=df[column],axlabel=column,color=colors)\n",
    "axes[1].set_title('Distribution of {}'.format(column),fontstyle='italic',fontsize=15,color='black')\n",
    "plt.text(.95,.95,'std={:.4f} \\n var={:.4f} \\n skew={:.4f} \\n kurtosis={:.4f}'.format(df[column].std(),\n",
    "        df[column].var(),df[column].skew(),df[column].kurtosis()),ha='right', va='top', transform=axes[1].transAxes)\n",
    "\n",
    "Try to write the code for box plot as third subplot as shown above.\n",
    "\n",
    "Image is given below!!\n",
    "</pre>\n",
    "</p>\n",
    "</span>\n",
    "</div>"
   ]
  },
  {
   "attachments": {
    "image.png": {
     "image/png": "[encoded data removed]"
    }
   },
   "cell_type": "markdown",
   "id": "0c0a0fd3",
   "metadata": {},
   "source": [
    "![image.png](attachment:image.png)"
   ]
  },
  {
   "cell_type": "code",
   "execution_count": null,
   "id": "108b0b34",
   "metadata": {},
   "outputs": [],
   "source": [
    "def plot_data(column_name, dataframe):\n",
    "    \"\"\"\n",
    "    Plot histogram, distribution plot, and box plot for the specified column.\n",
    "\n",
    "    Parameters:\n",
    "        column_name (str): Name of the column to plot.\n",
    "        dataframe (pandas.DataFrame): DataFrame containing the data.\n",
    "\n",
    "    Returns:\n",
    "        None\n",
    "    \"\"\"\n",
    "    # Set up the figure and axes\n",
    "    fig, axes = plt.subplots(1, 3, figsize=(15, 5))\n",
    "    colors = ['#1f77b4', '#ff7f0e']  # Colors for plotting\n",
    "\n",
    "    # Histogram plot\n",
    "    sns.histplot(ax=axes[0], x=dataframe[column_name], data=dataframe, color=colors[0])\n",
    "    axes[0].set_title('Histogram of {}'.format(column_name), fontstyle='italic', fontsize=15, color='black')\n",
    "\n",
    "    # Distribution plot\n",
    "    sns.distplot(ax=axes[1], x=dataframe[column_name], axlabel=column_name, color=colors[1])\n",
    "    axes[1].set_title('Distribution of {}'.format(column_name), fontstyle='italic', fontsize=15, color='black')\n",
    "    axes[1].text(.95, .95, 'std={:.4f} \\n var={:.4f} \\n skew={:.4f} \\n kurtosis={:.4f}'.format(dataframe[column_name].std(),\n",
    "                dataframe[column_name].var(), dataframe[column_name].skew(), dataframe[column_name].kurtosis()),\n",
    "                ha='right', va='top', transform=axes[1].transAxes)\n",
    "\n",
    "    # Box plot\n",
    "    sns.boxplot(ax=axes[2], x=dataframe[column_name], color=colors[0])\n",
    "    axes[2].set_title('Box Plot of {}'.format(column_name), fontstyle='italic', fontsize=15, color='black')\n",
    "\n",
    "    # Adjust layout\n",
    "    plt.tight_layout()\n",
    "\n",
    "    # Show the plots\n",
    "    plt.show()"
   ]
  },
  {
   "cell_type": "code",
   "execution_count": 13,
   "id": "04c53a4f",
   "metadata": {},
   "outputs": [
    {
     "data": {
      "text/plain": [
       "[<matplotlib.lines.Line2D at 0x25345017130>]"
      ]
     },
     "execution_count": 13,
     "metadata": {},
     "output_type": "execute_result"
    },
    {
     "data": {
      "image/png": "[encoded data removed]",
      "text/plain": [
       "<Figure size 432x288 with 1 Axes>"
      ]
     },
     "metadata": {
      "needs_background": "light"
     },
     "output_type": "display_data"
    }
   ],
   "source": [
    "plt.plot('age')"
   ]
  },
  {
   "cell_type": "markdown",
   "id": "12eb4695",
   "metadata": {},
   "source": [
    "<div class=\"warning\" style='padding:0.1em; background-color:#E9D8FD; color:#69337A'>\n",
    "<span>\n",
    "<p style='margin-top:1em; text-align:left'>\n",
    "<b># Question: </b></p>\n",
    "<p style='margin-left:1em;'>\n",
    "<pre> \n",
    "For a chosen random variable, find the probability that:\n",
    "    1. the person has age 43\n",
    "    2. the person is from group 40-45 (both inclusive)\n",
    "    3. has age greater than 45\n",
    "   Plot the distribution plot for second one using seaborn - sns.distplot()\n",
    "   To plot distribution plot for the second one, you need to encode the feature. \n",
    "   So, using LabelEncoder(), Encode the features and assign them in a seperate feature named 'age grp encode'.   \n",
    "Note: Round off to two digits\n",
    "What kind of distribution is it? \n",
    "</pre>\n",
    "</p>\n",
    "</span>\n",
    "</div>"
   ]
  },
  {
   "attachments": {
    "dist.png": {
     "image/png": "[encoded data removed]"
    }
   },
   "cell_type": "markdown",
   "id": "ab8ea665",
   "metadata": {},
   "source": [
    "![dist.png](attachment:dist.png)"
   ]
  },
  {
   "cell_type": "code",
   "execution_count": 15,
   "id": "543bdadd",
   "metadata": {
    "scrolled": false
   },
   "outputs": [
    {
     "name": "stdout",
     "output_type": "stream",
     "text": [
      "Probability that the person has age 43: 0.02\n",
      "Probability that the person is from group 40-45: 0.12\n",
      "Probability that the person has age greater than 45: 0.37\n"
     ]
    },
    {
     "name": "stderr",
     "output_type": "stream",
     "text": [
      "C:\\Users\\HP\\anaconda3\\anaconda\\lib\\site-packages\\seaborn\\distributions.py:2619: FutureWarning: `distplot` is a deprecated function and will be removed in a future version. Please adapt your code to use either `displot` (a figure-level function with similar flexibility) or `histplot` (an axes-level function for histograms).\n",
      "  warnings.warn(msg, FutureWarning)\n"
     ]
    },
    {
     "data": {
      "image/png": "[encoded data removed]",
      "text/plain": [
       "<Figure size 432x288 with 1 Axes>"
      ]
     },
     "metadata": {
      "needs_background": "light"
     },
     "output_type": "display_data"
    }
   ],
   "source": [
    "from sklearn.preprocessing import LabelEncoder\n",
    "# 1. Probability that the person has age 43\n",
    "prob_age_43 = df[df['age'] == 43].shape[0] / df.shape[0]\n",
    "\n",
    "# 2. Probability that the person is from group 40-45 (both inclusive)\n",
    "prob_age_40_45 = df[(df['age'] >= 40) & (df['age'] <= 45)].shape[0] / df.shape[0]\n",
    "\n",
    "# 3. Probability that the person has age greater than 45\n",
    "prob_age_greater_45 = df[df['age'] > 45].shape[0] / df.shape[0]\n",
    "\n",
    "# Print the probabilities rounded to two decimal places\n",
    "print(\"Probability that the person has age 43:\", round(prob_age_43, 2))\n",
    "print(\"Probability that the person is from group 40-45:\", round(prob_age_40_45, 2))\n",
    "print(\"Probability that the person has age greater than 45:\", round(prob_age_greater_45, 2))\n",
    "\n",
    "# Encoding age groups using LabelEncoder\n",
    "label_encoder = LabelEncoder()\n",
    "df['age_grp_encode'] = label_encoder.fit_transform(pd.cut(df['age'], bins=[0, 40, 45, np.inf], labels=['<40', '40-45', '>45'], right=False))\n",
    "\n",
    "# Plot the distribution plot for the encoded age groups\n",
    "sns.distplot(df['age_grp_encode'], kde=False)\n",
    "plt.xlabel('Age Group')\n",
    "plt.ylabel('Frequency')\n",
    "plt.title('Distribution of Age Groups')\n",
    "plt.xticks(ticks=df['age_grp_encode'].unique(), labels=label_encoder.inverse_transform(df['age_grp_encode'].unique()))\n",
    "plt.show()\n"
   ]
  },
  {
   "cell_type": "code",
   "execution_count": null,
   "id": "578e5696",
   "metadata": {},
   "outputs": [],
   "source": []
  },
  {
   "cell_type": "code",
   "execution_count": null,
   "id": "f3a6eecd",
   "metadata": {},
   "outputs": [],
   "source": []
  },
  {
   "cell_type": "markdown",
   "id": "8a381d3d",
   "metadata": {},
   "source": [
    "<div class=\"warning\" style='padding:0.1em; background-color:#70A0AF; color:#FFFFFF'>\n",
    "<span>\n",
    "<p style='margin-top:1em; text-align:left'>\n",
    "<b># Column: </b></p>\n",
    "<p style='margin-left:1em;'>\n",
    "<pre>\n",
    "Lets analyse 'sex' first:\n",
    "</pre>\n",
    "</p>\n",
    "</span>\n",
    "</div>"
   ]
  },
  {
   "cell_type": "markdown",
   "id": "95ca623b",
   "metadata": {},
   "source": [
    "<div class=\"warning\" style='padding:0.1em; background-color:#E9D8FD; color:#69337A'>\n",
    "<span>\n",
    "<p style='margin-top:1em; text-align:left'>\n",
    "<b># Question: </b></p>\n",
    "<p style='margin-left:1em;'>\n",
    "<pre>\n",
    "- Plot a count plot and a pie plot for 'sex' as subplots as shown for age feature. Draw your inferences\n",
    "</pre>\n",
    "</p>\n",
    "</span>\n",
    "</div>"
   ]
  },
  {
   "cell_type": "code",
   "execution_count": 16,
   "id": "1f509c87",
   "metadata": {},
   "outputs": [
    {
     "data": {
      "image/png": "[encoded data removed]",
      "text/plain": [
       "<Figure size 1440x360 with 4 Axes>"
      ]
     },
     "metadata": {
      "needs_background": "light"
     },
     "output_type": "display_data"
    }
   ],
   "source": [
    "# Set up the figure and axes\n",
    "fig, axes = plt.subplots(1, 4, figsize=(20, 5))\n",
    "colors = ['#1f77b4', '#ff7f0e']  # Colors for plotting\n",
    "\n",
    "# Count plot for 'sex'\n",
    "sns.countplot(ax=axes[0], x='sex', data=df, palette='pastel')\n",
    "axes[0].set_title('Count Plot of Sex', fontstyle='italic', fontsize=15, color='black')\n",
    "\n",
    "# Pie plot for 'sex'\n",
    "sex_counts = df['sex'].value_counts()\n",
    "axes[1].pie(sex_counts, labels=sex_counts.index, autopct='%1.1f%%', startangle=140, colors=colors)\n",
    "axes[1].set_title('Pie Plot of Sex', fontstyle='italic', fontsize=15, color='black')\n",
    "\n",
    "# Histogram plot for 'age'\n",
    "sns.histplot(ax=axes[2], x='age', data=df, color=colors[0])\n",
    "axes[2].set_title('Histogram of Age', fontstyle='italic', fontsize=15, color='black')\n",
    "\n",
    "# Distribution plot for 'age'\n",
    "sns.histplot(ax=axes[3], x='age', data=df, color=colors[1])\n",
    "axes[3].set_title('Distribution of Age', fontstyle='italic', fontsize=15, color='black')\n",
    "axes[3].text(.95, .95, 'std={:.4f} \\n var={:.4f} \\n skew={:.4f} \\n kurtosis={:.4f}'.format(df['age'].std(),\n",
    "            df['age'].var(), df['age'].skew(), df['age'].kurtosis()), ha='right', va='top', transform=axes[3].transAxes)\n",
    "\n",
    "# Adjust layout\n",
    "plt.tight_layout()\n",
    "\n",
    "# Show the plots\n",
    "plt.show()"
   ]
  },
  {
   "cell_type": "markdown",
   "id": "cc5188eb",
   "metadata": {},
   "source": [
    "<div class=\"warning\" style='padding:0.1em; background-color:#E9D8FD; color:#69337A'>\n",
    "<span>\n",
    "<p style='margin-top:1em; text-align:left'>\n",
    "<b># Question: </b></p>\n",
    "<p style='margin-left:1em;'>\n",
    "<pre>\n",
    "- Plot a count plot and a pie plot with respect to smokers feature as subplots as shown for age feature. Draw your inferences\n",
    "- Which pair of categories share the highest percentage? \n",
    "- Hint hue or value_counts() function to plot. \n",
    "</pre>\n",
    "</p>\n",
    "</span>\n",
    "</div>"
   ]
  },
  {
   "cell_type": "code",
   "execution_count": 17,
   "id": "b394aaa2",
   "metadata": {},
   "outputs": [
    {
     "name": "stdout",
     "output_type": "stream",
     "text": [
      "Percentage of each category:\n",
      "no     79.521674\n",
      "yes    20.478326\n",
      "Name: smoker, dtype: float64\n",
      "\n",
      "Pair of categories sharing the highest percentage: no\n"
     ]
    },
    {
     "data": {
      "image/png": "[encoded data removed]",
      "text/plain": [
       "<Figure size 1440x360 with 4 Axes>"
      ]
     },
     "metadata": {
      "needs_background": "light"
     },
     "output_type": "display_data"
    }
   ],
   "source": [
    "# Set up the figure and axes\n",
    "fig, axes = plt.subplots(1, 4, figsize=(20, 5))\n",
    "colors = ['#1f77b4', '#ff7f0e']  # Colors for plotting\n",
    "\n",
    "# Count plot for 'smoker'\n",
    "sns.countplot(ax=axes[0], x='smoker', data=df, palette='pastel')\n",
    "axes[0].set_title('Count Plot of Smoker', fontstyle='italic', fontsize=15, color='black')\n",
    "\n",
    "# Pie plot for 'smoker'\n",
    "smoker_counts = df['smoker'].value_counts()\n",
    "axes[1].pie(smoker_counts, labels=smoker_counts.index, autopct='%1.1f%%', startangle=140, colors=colors)\n",
    "axes[1].set_title('Pie Plot of Smoker', fontstyle='italic', fontsize=15, color='black')\n",
    "\n",
    "# Calculate percentages\n",
    "total_smokers = smoker_counts.sum()\n",
    "percentage_smokers = smoker_counts / total_smokers * 100\n",
    "\n",
    "# Print percentages\n",
    "print(\"Percentage of each category:\")\n",
    "print(percentage_smokers)\n",
    "\n",
    "# Find the pair of categories sharing the highest percentage\n",
    "highest_percentage_pair = percentage_smokers.idxmax()\n",
    "print(\"\\nPair of categories sharing the highest percentage:\", highest_percentage_pair)\n",
    "\n",
    "# Adjust layout\n",
    "plt.tight_layout()\n",
    "\n",
    "# Show the plots\n",
    "plt.show()"
   ]
  },
  {
   "cell_type": "code",
   "execution_count": null,
   "id": "b40c66c8",
   "metadata": {},
   "outputs": [],
   "source": []
  },
  {
   "cell_type": "markdown",
   "id": "47435c92",
   "metadata": {},
   "source": [
    "<div class=\"warning\" style='padding:0.1em; background-color:#E9D8FD; color:#69337A'>\n",
    "<span>\n",
    "<p style='margin-top:1em; text-align:left'>\n",
    "<b># Question: </b></p>\n",
    "<p style='margin-left:1em;'>\n",
    "<pre>\n",
    "It is claimed that There are almost equal smokers in men and women. Find out if its true?\n",
    "Note: Encode the data before using it for statistical tests\n",
    "</pre>\n",
    "</p>\n",
    "</span>\n",
    "</div>"
   ]
  },
  {
   "cell_type": "code",
   "execution_count": null,
   "id": "9d2b0a4b",
   "metadata": {},
   "outputs": [],
   "source": [
    "# Encoding sex Column\n",
    "\n",
    "# Encoding smoker column"
   ]
  },
  {
   "cell_type": "code",
   "execution_count": null,
   "id": "44448a2f",
   "metadata": {},
   "outputs": [],
   "source": [
    "from sklearn.preprocessing import LabelEncoder\n",
    "from scipy.stats import chi2_contingency\n",
    "\n",
    "# Convert 'smoker' column values to lowercase to ensure consistency\n",
    "df['smoker'] = df['smoker'].str.lower()\n",
    "\n",
    "# Plot histogram for charges, classifying both smokers and non-smokers\n",
    "plt.figure(figsize=(10, 6))\n",
    "sns.histplot(data=df, x='charges', hue='smoker', bins=20, palette={'yes': 'green', 'no': 'red'}, kde=True)\n",
    "plt.title('Histogram of Charges by Smoking Status', fontsize=16)\n",
    "plt.xlabel('Charges', fontsize=14)\n",
    "plt.ylabel('Frequency', fontsize=14)\n",
    "plt.legend(title='Smoker', fontsize=12)\n",
    "plt.grid(True)\n",
    "\n",
    "# Given charge to estimate probability\n",
    "given_charge = 32000\n",
    "\n",
    "# Calculate PDF for both smokers and non-smokers at the given charge\n",
    "pdf_smoker = np.sum(df[df['smoker'] == 'yes']['charges'] == given_charge) / len(df[df['smoker'] == 'yes'])\n",
    "pdf_non_smoker = np.sum(df[df['smoker'] == 'no']['charges'] == given_charge) / len(df[df['smoker'] == 'no'])\n",
    "\n",
    "# Print PDF values\n",
    "print(\"PDF for smoker at charge\", given_charge, \":\", pdf_smoker)\n",
    "print(\"PDF for non-smoker at charge\", given_charge, \":\", pdf_non_smoker)\n",
    "\n",
    "# Conclusion\n",
    "if pdf_smoker > pdf_non_smoker:\n",
    "    print(\"Conclusion: At charge\", given_charge, \", the probability of a smoker is higher than a non-smoker.\")\n",
    "else:\n",
    "    print(\"Conclusion: At charge\", given_charge, \", the probability of a non-smoker is higher than a smoker.\")\n",
    "\n",
    "# Show plot\n",
    "plt.show()"
   ]
  },
  {
   "cell_type": "code",
   "execution_count": null,
   "id": "daa25fad",
   "metadata": {},
   "outputs": [],
   "source": []
  },
  {
   "cell_type": "markdown",
   "id": "d9544931",
   "metadata": {},
   "source": [
    "<div class=\"warning\" style='padding:0.1em; background-color:#70A0AF; color:#FFFFFF'>\n",
    "<span>\n",
    "<p style='margin-top:1em; text-align:left'>\n",
    "<b># Column: </b></p>\n",
    "<p style='margin-left:1em;'>\n",
    "<pre>\n",
    "Lets analyse 'smoker' first:\n",
    "</pre>\n",
    "</p>\n",
    "</span>\n",
    "</div>"
   ]
  },
  {
   "cell_type": "markdown",
   "id": "33a7fb2f",
   "metadata": {},
   "source": [
    "<div class=\"warning\" style='padding:0.1em; background-color:#E9D8FD; color:#69337A'>\n",
    "<span>\n",
    "<p style='margin-top:1em; text-align:left'>\n",
    "<b># Question: </b></p>\n",
    "<p style='margin-left:1em;'>\n",
    "<pre>\n",
    "- Plot a count plot and a pie plot for 'smoker' as subplots as shown for age feature. Draw your inferences\n",
    "</pre>\n",
    "</p>\n",
    "</span>\n",
    "</div>"
   ]
  },
  {
   "cell_type": "code",
   "execution_count": null,
   "id": "e6047f0a",
   "metadata": {},
   "outputs": [],
   "source": [
    "# Set up the figure and axes\n",
    "fig, axes = plt.subplots(1, 2, figsize=(12, 6))\n",
    "colors = ['#1f77b4', '#ff7f0e']  # Colors for plotting\n",
    "\n",
    "# Count plot for 'smoker'\n",
    "sns.countplot(ax=axes[0], x='smoker', data=df, palette='pastel')\n",
    "axes[0].set_title('Count Plot of Smoker', fontstyle='italic', fontsize=15, color='black')\n",
    "\n",
    "# Pie plot for 'smoker'\n",
    "smoker_counts = df['smoker'].value_counts()\n",
    "axes[1].pie(smoker_counts, labels=smoker_counts.index, autopct='%1.1f%%', startangle=140, colors=colors)\n",
    "axes[1].set_title('Pie Plot of Smoker', fontstyle='italic', fontsize=15, color='black')\n",
    "\n",
    "# Adjust layout\n",
    "plt.tight_layout()\n",
    "\n",
    "# Show the plots\n",
    "plt.show()"
   ]
  },
  {
   "cell_type": "markdown",
   "id": "b7d646a0",
   "metadata": {},
   "source": [
    "<div class=\"warning\" style='padding:0.1em; background-color:#70A0AF; color:#FFFFFF'>\n",
    "<span>\n",
    "<p style='margin-top:1em; text-align:left'>\n",
    "<b># Column: </b></p>\n",
    "<p style='margin-left:1em;'>\n",
    "<pre>\n",
    "Lets analyse 'bmi' first:\n",
    "</pre>\n",
    "</p>\n",
    "</span>\n",
    "</div>"
   ]
  },
  {
   "cell_type": "markdown",
   "id": "6f328d94",
   "metadata": {},
   "source": [
    "<div class=\"warning\" style='padding:0.1em; background-color:#E9D8FD; color:#69337A'>\n",
    "<span>\n",
    "<p style='margin-top:1em; text-align:left'>\n",
    "<b># Question: </b></p>\n",
    "<p style='margin-left:1em;'>\n",
    "<pre>\n",
    "Create a new feature named 'BMI group' and categorize them as following: <br>\n",
    "    - < 18.5 : 'Under weight'\n",
    "    - 18.5 - 25 : 'Healthy weight' \n",
    "    - 25 - 30 : 'Overweight'\n",
    "    - 30 - 40 : 'Obese'\n",
    "    - >=40 : 'Severely Obese'\n",
    "</pre>\n",
    "</p>\n",
    "</span>\n",
    "</div>"
   ]
  },
  {
   "cell_type": "code",
   "execution_count": null,
   "id": "1ff50af9",
   "metadata": {},
   "outputs": [],
   "source": [
    "# Define function to categorize BMI values\n",
    "def categorize_bmi(bmi):\n",
    "    if bmi < 18.5:\n",
    "        return 'Underweight'\n",
    "    elif 18.5 <= bmi < 25:\n",
    "        return 'Healthy weight'\n",
    "    elif 25 <= bmi < 30:\n",
    "        return 'Overweight'\n",
    "    elif 30 <= bmi < 40:\n",
    "        return 'Obese'\n",
    "    else:\n",
    "        return 'Severely Obese'\n",
    "\n",
    "# Create 'BMI group' feature\n",
    "df['BMI group'] = df['bmi'].apply(categorize_bmi)\n",
    "\n",
    "# Display DataFrame\n",
    "print(df)"
   ]
  },
  {
   "cell_type": "markdown",
   "id": "3446657b",
   "metadata": {},
   "source": [
    "<div class=\"warning\" style='padding:0.1em; background-color:#E9D8FD; color:#69337A'>\n",
    "<span>\n",
    "<p style='margin-top:1em; text-align:left'>\n",
    "<b># Question: </b></p>\n",
    "<p style='margin-left:1em;'>\n",
    "<pre>\n",
    "- Plot the below shown plot for the bmi feature\n",
    "</pre>\n",
    "</p>\n",
    "</span>\n",
    "</div>"
   ]
  },
  {
   "attachments": {
    "dist%20bmi.png": {
     "image/png": "[encoded data removed]"
    }
   },
   "cell_type": "markdown",
   "id": "ba8ae89a",
   "metadata": {},
   "source": [
    "![dist%20bmi.png](attachment:dist%20bmi.png)"
   ]
  },
  {
   "cell_type": "code",
   "execution_count": null,
   "id": "e537660a",
   "metadata": {},
   "outputs": [],
   "source": [
    "# Set up the figure and axes\n",
    "fig, axes = plt.subplots(1, 2, figsize=(12, 6))\n",
    "colors = ['#1f77b4', '#ff7f0e']  # Colors for plotting\n",
    "\n",
    "# Histogram plot for 'BMI'\n",
    "sns.histplot(ax=axes[0], x='bmi', data=df, color=colors[0])\n",
    "axes[0].set_title('Histogram of BMI', fontstyle='italic', fontsize=15, color='black')\n",
    "\n",
    "# Distribution plot for 'BMI'\n",
    "sns.histplot(ax=axes[1], x='bmi', data=df, kde=True, color=colors[1], stat='density')\n",
    "axes[1].set_title('Distribution of BMI', fontstyle='italic', fontsize=15, color='black')\n",
    "\n",
    "# Adjust layout\n",
    "plt.tight_layout()\n",
    "\n",
    "# Show the plots\n",
    "plt.show()"
   ]
  },
  {
   "cell_type": "markdown",
   "id": "515ba8b3",
   "metadata": {},
   "source": [
    "<div class=\"warning\" style='padding:0.1em; background-color:#E9D8FD; color:#69337A'>\n",
    "<span>\n",
    "<p style='margin-top:1em; text-align:left'>\n",
    "<b># Question: </b></p>\n",
    "<p style='margin-left:1em;'>\n",
    "<pre>\n",
    "- Do obese people have to pay high insurance price? Please perform a statistical test suitable to this and give your opinion on this? \n",
    "- Note: You can choose either 'BMI' or 'BMI group' for this. Choose the test accordingly. \n",
    "You can also encode 'BMI group feature' and perform the above needed one.\n",
    "</pre>\n",
    "</p>\n",
    "</span>\n",
    "</div>"
   ]
  },
  {
   "cell_type": "code",
   "execution_count": null,
   "id": "3d2993e8",
   "metadata": {},
   "outputs": [],
   "source": [
    "from scipy.stats import kruskal\n",
    "\n",
    "# Sample data with 'BMI group' and 'insurance_price' columns\n",
    "data = {'BMI group': ['Healthy weight', 'Obese', 'Obese', 'Healthy weight', 'Overweight', 'Obese', 'Overweight', 'Healthy weight', 'Obese'],\n",
    "        'insurance_price': [5000, 7000, 8000, 4500, 6000, 8500, 7500, 4800, 8200]}\n",
    "df = pd.DataFrame(data)\n",
    "\n",
    "# Perform Kruskal-Wallis H test\n",
    "statistic, p_value = kruskal(*[group[\"insurance_price\"] for name, group in df.groupby(\"BMI group\")])\n",
    "\n",
    "# Print results\n",
    "print(\"Kruskal-Wallis H test statistic:\", statistic)\n",
    "print(\"P-value:\", p_value)\n",
    "\n",
    "# Interpretation\n",
    "alpha = 0.05\n",
    "if p_value < alpha:\n",
    "    print(\"There is a significant difference in insurance prices among BMI groups.\")\n",
    "else:\n",
    "    print(\"There is no significant difference in insurance prices among BMI groups.\")"
   ]
  },
  {
   "cell_type": "markdown",
   "id": "ff33cff1",
   "metadata": {},
   "source": [
    "<div class=\"warning\" style='padding:0.1em; background-color:#E9D8FD; color:#69337A'>\n",
    "<span>\n",
    "<p style='margin-top:1em; text-align:left'>\n",
    "<b># Question: </b></p>\n",
    "<p style='margin-left:1em;'>\n",
    "<pre>\n",
    "- Visualize the above scenario using a plot. How do you visualize it in the most informative way? \n",
    "</pre>\n",
    "</p>\n",
    "</span>\n",
    "</div>"
   ]
  },
  {
   "cell_type": "code",
   "execution_count": null,
   "id": "a931b88f",
   "metadata": {},
   "outputs": [],
   "source": [
    "# Sample data with 'BMI group' and 'insurance_price' columns\n",
    "data = {'BMI group': ['Healthy weight', 'Obese', 'Obese', 'Healthy weight', 'Overweight', 'Obese', 'Overweight', 'Healthy weight', 'Obese'],\n",
    "        'insurance_price': [5000, 7000, 8000, 4500, 6000, 8500, 7500, 4800, 8200]}\n",
    "df = pd.DataFrame(data)\n",
    "\n",
    "# Set style and context for seaborn\n",
    "sns.set_style(\"whitegrid\")\n",
    "sns.set_context(\"notebook\", font_scale=1.2)\n",
    "\n",
    "# Create box plot\n",
    "plt.figure(figsize=(10, 6))\n",
    "sns.boxplot(x='BMI group', y='insurance_price', data=df, palette='pastel')\n",
    "plt.title('Insurance Prices by BMI Group', fontsize=16)\n",
    "plt.xlabel('BMI Group', fontsize=14)\n",
    "plt.ylabel('Insurance Price', fontsize=14)\n",
    "plt.xticks(rotation=45)\n",
    "\n",
    "# Show plot\n",
    "plt.tight_layout()\n",
    "plt.show()"
   ]
  },
  {
   "cell_type": "markdown",
   "id": "238ec62e",
   "metadata": {},
   "source": [
    "<div class=\"warning\" style='padding:0.1em; background-color:#70A0AF; color:#FFFFFF'>\n",
    "<span>\n",
    "<p style='margin-top:1em; text-align:left'>\n",
    "<b># Column: </b></p>\n",
    "<p style='margin-left:1em;'>\n",
    "<pre>\n",
    "Lets analyse 'children' first:\n",
    "</pre>\n",
    "</p>\n",
    "</span>\n",
    "</div>"
   ]
  },
  {
   "cell_type": "markdown",
   "id": "0df67d84",
   "metadata": {},
   "source": [
    "<div class=\"warning\" style='padding:0.1em; background-color:#E9D8FD; color:#69337A'>\n",
    "<span>\n",
    "<p style='margin-top:1em; text-align:left'>\n",
    "<b># Question: </b></p>\n",
    "<p style='margin-left:1em;'>\n",
    "<pre>\n",
    "- Plot a count plot and a pie plot for 'children' as subplots as shown for age feature. Draw your inferences\n",
    "</pre>\n",
    "</p>\n",
    "</span>\n",
    "</div>"
   ]
  },
  {
   "cell_type": "code",
   "execution_count": 18,
   "id": "30be93b2",
   "metadata": {},
   "outputs": [
    {
     "data": {
      "image/png": "[encoded data removed]",
      "text/plain": [
       "<Figure size 864x432 with 2 Axes>"
      ]
     },
     "metadata": {
      "needs_background": "light"
     },
     "output_type": "display_data"
    }
   ],
   "source": [
    "# Create a figure with subplots\n",
    "fig, axes = plt.subplots(1, 2, figsize=(12, 6))\n",
    "\n",
    "# Plot count plot for 'children'\n",
    "sns.countplot(x='children', data=df, ax=axes[0])\n",
    "axes[0].set_title('Count Plot of Children', fontsize=16)\n",
    "axes[0].set_xlabel('Children', fontsize=14)\n",
    "axes[0].set_ylabel('Count', fontsize=14)\n",
    "\n",
    "# Plot pie plot for 'children'\n",
    "children_counts = df['children'].value_counts()\n",
    "axes[1].pie(children_counts, labels=children_counts.index, autopct='%1.1f%%', startangle=140)\n",
    "axes[1].set_title('Pie Plot of Children', fontsize=16)\n",
    "\n",
    "# Adjust layout\n",
    "plt.tight_layout()\n",
    "\n",
    "# Show plots\n",
    "plt.show()"
   ]
  },
  {
   "cell_type": "markdown",
   "id": "0ff4f0aa",
   "metadata": {},
   "source": [
    "<div class=\"warning\" style='padding:0.1em; background-color:#E9D8FD; color:#69337A'>\n",
    "<span>\n",
    "<p style='margin-top:1em; text-align:left'>\n",
    "<b># Question: </b></p>\n",
    "<p style='margin-left:1em;'>\n",
    "<pre>\n",
    "- What is count and percentage of people having more than 2 children?\n",
    "Note: Round the percentage to 2 digits\n",
    "</pre>\n",
    "</p>\n",
    "</span>\n",
    "</div>"
   ]
  },
  {
   "cell_type": "code",
   "execution_count": null,
   "id": "8611ebd9",
   "metadata": {},
   "outputs": [],
   "source": [
    "# Sample data with 'children' column\n",
    "data = {'children': [0, 1, 2, 1, 3, 0, 2, 1, 0]}\n",
    "df = pd.DataFrame(data)\n",
    "\n",
    "# Count of people having more than 2 children\n",
    "count_more_than_2_children = df[df['children'] > 2]['children'].count()\n",
    "\n",
    "# Total count of people\n",
    "total_count = df['children'].count()\n",
    "\n",
    "# Percentage of people having more than 2 children\n",
    "percentage_more_than_2_children = (count_more_than_2_children / total_count) * 100\n",
    "\n",
    "# Print count and percentage\n",
    "print(\"Count of people having more than 2 children:\", count_more_than_2_children)\n",
    "print(\"Percentage of people having more than 2 children: {:.2f}%\".format(percentage_more_than_2_children))"
   ]
  },
  {
   "cell_type": "markdown",
   "id": "602fcfb2",
   "metadata": {},
   "source": [
    "<div class=\"warning\" style='padding:0.1em; background-color:#E9D8FD; color:#69337A'>\n",
    "<span>\n",
    "<p style='margin-top:1em; text-align:left'>\n",
    "<b># Question: </b></p>\n",
    "<p style='margin-left:1em;'>\n",
    "<pre>\n",
    "- Create a new dataframe df_1 with region data as index and children categories as column\n",
    "- It should be in a similar to the data shown in the image here:\n",
    "- Hint: Use pandas.crosstab() function with index as region, columns as children, aggregation_function as count. \n",
    "</pre>\n",
    "</p>\n",
    "</span>\n",
    "</div>"
   ]
  },
  {
   "attachments": {
    "Screenshot%20%2854%29.png": {
     "image/png": "[encoded data removed]"
    }
   },
   "cell_type": "markdown",
   "id": "403401cf",
   "metadata": {},
   "source": [
    "![Screenshot%20%2854%29.png](attachment:Screenshot%20%2854%29.png)"
   ]
  },
  {
   "cell_type": "code",
   "execution_count": null,
   "id": "3fa51867",
   "metadata": {},
   "outputs": [],
   "source": [
    "# Create a new DataFrame df_1 using pd.crosstab()\n",
    "df_1 = pd.crosstab(index=df['region'], columns=df['children'])\n",
    "\n",
    "# Display the new DataFrame\n",
    "print(df_1)"
   ]
  },
  {
   "cell_type": "code",
   "execution_count": 20,
   "id": "f06fa73e",
   "metadata": {},
   "outputs": [
    {
     "name": "stdout",
     "output_type": "stream",
     "text": [
      "<class 'pandas.core.frame.DataFrame'>\n",
      "RangeIndex: 1338 entries, 0 to 1337\n",
      "Data columns (total 10 columns):\n",
      " #   Column          Non-Null Count  Dtype   \n",
      "---  ------          --------------  -----   \n",
      " 0   age             1338 non-null   int64   \n",
      " 1   sex             1338 non-null   object  \n",
      " 2   bmi             1338 non-null   float64 \n",
      " 3   children        1338 non-null   int64   \n",
      " 4   smoker          1338 non-null   object  \n",
      " 5   region          1338 non-null   object  \n",
      " 6   charges         1338 non-null   float64 \n",
      " 7   age group       1338 non-null   category\n",
      " 8   age grp encode  1338 non-null   int32   \n",
      " 9   age_grp_encode  1338 non-null   int32   \n",
      "dtypes: category(1), float64(2), int32(2), int64(2), object(3)\n",
      "memory usage: 85.4+ KB\n"
     ]
    }
   ],
   "source": [
    "df.info()"
   ]
  },
  {
   "cell_type": "markdown",
   "id": "a9ceddc9",
   "metadata": {},
   "source": [
    "<div class=\"warning\" style='padding:0.1em; background-color:#E9D8FD; color:#69337A'>\n",
    "<span>\n",
    "<p style='margin-top:1em; text-align:left'>\n",
    "<b># Question: </b></p>\n",
    "<p style='margin-left:1em;'>\n",
    "<pre>\n",
    "- From the above dataframe, create a new feature 'Total' from the above dataframe df_1\n",
    "- Create one more feature Average, and calculate row wise mean() as in figure\n",
    "- Follow the below image for hints:\n",
    "- Use sum() function and axis=1 in it.\n",
    "</pre>\n",
    "</p>\n",
    "</span>\n",
    "</div>"
   ]
  },
  {
   "attachments": {
    "Screenshot%20%2855%29.png": {
     "image/png": "[encoded data removed]"
    }
   },
   "cell_type": "markdown",
   "id": "9b77fe75",
   "metadata": {},
   "source": [
    "![Screenshot%20%2855%29.png](attachment:Screenshot%20%2855%29.png)"
   ]
  },
  {
   "cell_type": "code",
   "execution_count": 19,
   "id": "a50f016a",
   "metadata": {
    "scrolled": true
   },
   "outputs": [
    {
     "ename": "NameError",
     "evalue": "name 'df_1' is not defined",
     "output_type": "error",
     "traceback": [
      "\u001b[1;31m---------------------------------------------------------------------------\u001b[0m",
      "\u001b[1;31mNameError\u001b[0m                                 Traceback (most recent call last)",
      "Input \u001b[1;32mIn [19]\u001b[0m, in \u001b[0;36m<cell line: 2>\u001b[1;34m()\u001b[0m\n\u001b[0;32m      1\u001b[0m \u001b[38;5;66;03m# Calculate 'Total' by summing the values across columns\u001b[39;00m\n\u001b[1;32m----> 2\u001b[0m df_1[\u001b[38;5;124m'\u001b[39m\u001b[38;5;124mTotal\u001b[39m\u001b[38;5;124m'\u001b[39m] \u001b[38;5;241m=\u001b[39m \u001b[43mdf_1\u001b[49m\u001b[38;5;241m.\u001b[39msum(axis\u001b[38;5;241m=\u001b[39m\u001b[38;5;241m1\u001b[39m)\n\u001b[0;32m      4\u001b[0m \u001b[38;5;66;03m# Calculate 'Average' by dividing 'Total' by the total number of columns excluding the 'Total' column\u001b[39;00m\n\u001b[0;32m      5\u001b[0m num_columns \u001b[38;5;241m=\u001b[39m df_1\u001b[38;5;241m.\u001b[39mshape[\u001b[38;5;241m1\u001b[39m] \u001b[38;5;241m-\u001b[39m \u001b[38;5;241m1\u001b[39m  \u001b[38;5;66;03m# Subtract 1 to exclude the 'Total' column\u001b[39;00m\n",
      "\u001b[1;31mNameError\u001b[0m: name 'df_1' is not defined"
     ]
    }
   ],
   "source": [
    "# Calculate 'Total' by summing the values across columns\n",
    "df_1['Total'] = df_1.sum(axis=1)\n",
    "\n",
    "# Calculate 'Average' by dividing 'Total' by the total number of columns excluding the 'Total' column\n",
    "num_columns = df_1.shape[1] - 1  # Subtract 1 to exclude the 'Total' column\n",
    "df_1['Average'] = df_1['Total'] / num_columns\n",
    "\n",
    "# Display df_1 with new features\n",
    "print(df_1)"
   ]
  },
  {
   "cell_type": "code",
   "execution_count": null,
   "id": "91ab62ca",
   "metadata": {},
   "outputs": [],
   "source": []
  },
  {
   "cell_type": "markdown",
   "id": "af0b3b95",
   "metadata": {},
   "source": [
    "<div class=\"warning\" style='padding:0.1em; background-color:#70A0AF; color:#FFFFFF'>\n",
    "<span>\n",
    "<p style='margin-top:1em; text-align:left'>\n",
    "<b># Column: </b></p>\n",
    "<p style='margin-left:1em;'>\n",
    "<pre>\n",
    "Lets analyse 'region' first:\n",
    "</pre>\n",
    "</p>\n",
    "</span>\n",
    "</div>"
   ]
  },
  {
   "cell_type": "markdown",
   "id": "2f5005c1",
   "metadata": {},
   "source": [
    "<div class=\"warning\" style='padding:0.1em; background-color:#E9D8FD; color:#69337A'>\n",
    "<span>\n",
    "<p style='margin-top:1em; text-align:left'>\n",
    "<b># Question: </b></p>\n",
    "<p style='margin-left:1em;'>\n",
    "<pre>\n",
    "- Plot the below shown plots w.r.t 'region feature\n",
    "</pre>\n",
    "</p>\n",
    "</span>\n",
    "</div>"
   ]
  },
  {
   "attachments": {
    "1.png": {
     "image/png": "[encoded data removed]"
    }
   },
   "cell_type": "markdown",
   "id": "60efdfaf",
   "metadata": {},
   "source": [
    "![1.png](attachment:1.png)"
   ]
  },
  {
   "attachments": {
    "2.png": {
     "image/png": "[encoded data removed]"
    }
   },
   "cell_type": "markdown",
   "id": "0a611a6f",
   "metadata": {},
   "source": [
    "![2.png](attachment:2.png)"
   ]
  },
  {
   "cell_type": "code",
   "execution_count": null,
   "id": "0b2a791f",
   "metadata": {},
   "outputs": [],
   "source": [
    "# Plot pie graph for 'region'\n",
    "plt.figure(figsize=(8, 8))\n",
    "df_1['Total'].plot(kind='pie', autopct='%1.1f%%', startangle=140, colors=plt.cm.tab20.colors)\n",
    "plt.title('Distribution of Region')\n",
    "plt.ylabel('')\n",
    "plt.show()"
   ]
  },
  {
   "cell_type": "code",
   "execution_count": null,
   "id": "47f90a23",
   "metadata": {},
   "outputs": [],
   "source": [
    "# Plot histogram for 'region'\n",
    "plt.figure(figsize=(8, 6))\n",
    "df_1['Total'].plot(kind='bar', color='skyblue')\n",
    "plt.title('Total Count by Region')\n",
    "plt.xlabel('Region')\n",
    "plt.ylabel('Total Count')\n",
    "plt.xticks(rotation=45)\n",
    "plt.show()"
   ]
  },
  {
   "cell_type": "markdown",
   "id": "9860d0cb",
   "metadata": {},
   "source": [
    "<div class=\"warning\" style='padding:0.1em; background-color:#70A0AF; color:#FFFFFF'>\n",
    "<span>\n",
    "<p style='margin-top:1em; text-align:left'>\n",
    "<b># Column: </b></p>\n",
    "<p style='margin-left:1em;'>\n",
    "<pre>\n",
    "Lets analyse 'charges' first:\n",
    "</pre>\n",
    "</p>\n",
    "</span>\n",
    "</div>"
   ]
  },
  {
   "cell_type": "markdown",
   "id": "50ad4eb0",
   "metadata": {},
   "source": [
    "<div class=\"warning\" style='padding:0.1em; background-color:#E9D8FD; color:#69337A'>\n",
    "<span>\n",
    "<p style='margin-top:1em; text-align:left'>\n",
    "<b># Question: </b></p>\n",
    "<p style='margin-left:1em;'>\n",
    "<pre>\n",
    "- Create charges mean based on direction using pandas.pivot_table()\n",
    "</pre>\n",
    "</p>\n",
    "</span>\n",
    "</div>"
   ]
  },
  {
   "cell_type": "code",
   "execution_count": null,
   "id": "08b4a85f",
   "metadata": {},
   "outputs": [],
   "source": [
    "# Create pivot table to calculate charges mean based on direction\n",
    "pivot_table = pd.pivot_table(df, values='charges', index='region', aggfunc='mean')\n",
    "\n",
    "# Display pivot table\n",
    "print(pivot_table)"
   ]
  },
  {
   "cell_type": "markdown",
   "id": "2619c4da",
   "metadata": {},
   "source": [
    "<div class=\"warning\" style='padding:0.1em; background-color:#E9D8FD; color:#69337A'>\n",
    "<span>\n",
    "<p style='margin-top:1em; text-align:left'>\n",
    "<b># Question: </b></p>\n",
    "<p style='margin-left:1em;'>\n",
    "<pre>\n",
    "- How many people got billed above 15000 in insurance? What percentage of total amount do they contribute to?\n",
    "</pre>\n",
    "</p>\n",
    "</span>\n",
    "</div>"
   ]
  },
  {
   "cell_type": "code",
   "execution_count": null,
   "id": "c7cb407a",
   "metadata": {},
   "outputs": [],
   "source": [
    "# Filter the DataFrame to get the number of people billed above 15000\n",
    "num_above_15000 = df[df['charges'] > 15000]['charges'].count()\n",
    "\n",
    "# Calculate the total amount billed\n",
    "total_amount = df['charges'].sum()\n",
    "\n",
    "# Calculate the total amount contributed by people billed above 15000\n",
    "total_above_15000 = df[df['charges'] > 15000]['charges'].sum()\n",
    "\n",
    "# Calculate the percentage contributed by people billed above 15000\n",
    "percentage_contributed = (total_above_15000 / total_amount) * 100\n",
    "\n",
    "# Print results\n",
    "print(\"Number of people billed above $15,000 in insurance:\", num_above_15000)\n",
    "print(\"Percentage of total amount contributed by them: {:.2f}%\".format(percentage_contributed))"
   ]
  },
  {
   "cell_type": "markdown",
   "id": "329b640a",
   "metadata": {},
   "source": [
    "<div class=\"warning\" style='padding:0.1em; background-color:#E9D8FD; color:#69337A'>\n",
    "<span>\n",
    "<p style='margin-top:1em; text-align:left'>\n",
    "<b># Question: </b></p>\n",
    "<p style='margin-left:1em;'>\n",
    "<pre>\n",
    "- What is maximum charges billed by health insurance and to whom(Index)?\n",
    "</pre>\n",
    "</p>\n",
    "</span>\n",
    "</div>"
   ]
  },
  {
   "cell_type": "code",
   "execution_count": null,
   "id": "0540bf71",
   "metadata": {},
   "outputs": [],
   "source": [
    "# Find the index label corresponding to the maximum charges\n",
    "max_charges_index = df['charges'].idxmax()\n",
    "\n",
    "# Find the maximum charges billed\n",
    "max_charges = df['charges'].max()\n",
    "\n",
    "# Print results\n",
    "print(\"Maximum charges billed by health insurance:\", max_charges)\n",
    "print(\"Index of the person with maximum charges:\", max_charges_index)"
   ]
  },
  {
   "cell_type": "markdown",
   "id": "f6c56dbb",
   "metadata": {},
   "source": [
    "<div class=\"warning\" style='padding:0.1em; background-color:#E9D8FD; color:#69337A'>\n",
    "<span>\n",
    "<p style='margin-top:1em; text-align:left'>\n",
    "<b># Question: </b></p>\n",
    "<p style='margin-left:1em;'>\n",
    "<pre>\n",
    "- Which age group paid the highest charges by total? \n",
    "</pre>\n",
    "</p>\n",
    "</span>\n",
    "</div>"
   ]
  },
  {
   "cell_type": "code",
   "execution_count": null,
   "id": "a4d76343",
   "metadata": {},
   "outputs": [],
   "source": [
    "# Group by age group and sum charges\n",
    "charges_by_age_group = df.groupby('age group')['charges'].sum()\n",
    "\n",
    "# Find the age group with the highest total charges\n",
    "highest_charges_age_group = charges_by_age_group.idxmax()\n",
    "highest_charges_total = charges_by_age_group.max()\n",
    "\n",
    "# Print results\n",
    "print(\"Age group with the highest charges by total:\", highest_charges_age_group)\n",
    "print(\"Total charges for the highest paying age group:\", highest_charges_total)"
   ]
  },
  {
   "cell_type": "code",
   "execution_count": null,
   "id": "c62bfd76",
   "metadata": {},
   "outputs": [],
   "source": []
  },
  {
   "cell_type": "code",
   "execution_count": null,
   "id": "b6bc3a3c",
   "metadata": {},
   "outputs": [],
   "source": []
  },
  {
   "cell_type": "markdown",
   "id": "13f4cb96",
   "metadata": {},
   "source": [
    "<div class=\"warning\" style='padding:0.1em; background-color:#E9D8FD; color:#69337A'>\n",
    "<span>\n",
    "<p style='margin-top:1em; text-align:left'>\n",
    "<b># Question: </b></p>\n",
    "<p style='margin-left:1em;'>\n",
    "<pre>\n",
    "- The below image shows the charges distribution of smoker(red: non-smoker, green:smoker)\n",
    "- Plot a histogram for charges classifying both smokers and non-smokers (Consider your convenient axes scale)\n",
    "- Find areas from your plot, where given a new charge, probability of a smoker is higher than a non-smoker\n",
    "- For example, from the plot if a charge 32000 is estimated, the probability of non-smoker is higher than a smoker.\n",
    "- After performing this, Kindly frame a conclusion if this is a good feature to consider or not. \n",
    "</pre>\n",
    "</p>\n",
    "</span>\n",
    "</div>"
   ]
  },
  {
   "attachments": {
    "download.png": {
     "image/png": "[encoded data removed]"
    }
   },
   "cell_type": "markdown",
   "id": "9f625411",
   "metadata": {},
   "source": [
    "![download.png](attachment:download.png)"
   ]
  },
  {
   "cell_type": "code",
   "execution_count": null,
   "id": "fe6aaca3",
   "metadata": {},
   "outputs": [],
   "source": [
    "# Plot histogram for charges classifying both smokers and non-smokers\n",
    "plt.figure(figsize=(10, 6))\n",
    "sns.histplot(data=df, x='charges', hue='smoker', bins=20, palette={'no': 'red', 'yes': 'green'}, kde=True)\n",
    "plt.title('Histogram of Charges by Smoking Status', fontsize=16)\n",
    "plt.xlabel('Charges', fontsize=14)\n",
    "plt.ylabel('Frequency', fontsize=14)\n",
    "plt.legend(title='Smoker', fontsize=12)\n",
    "plt.grid(True)\n",
    "\n",
    "# Given charge to estimate probability\n",
    "given_charge = 32000\n",
    "\n",
    "# Calculate PDF for both smokers and non-smokers at the given charge\n",
    "pdf_smoker = np.sum(df[df['smoker'] == 'yes']['charges'] == given_charge) / len(df[df['smoker'] == 'yes'])\n",
    "pdf_non_smoker = np.sum(df[df['smoker'] == 'no']['charges'] == given_charge) / len(df[df['smoker'] == 'no'])\n",
    "\n",
    "# Print PDF values\n",
    "print(\"PDF for smoker at charge\", given_charge, \":\", pdf_smoker)\n",
    "print(\"PDF for non-smoker at charge\", given_charge, \":\", pdf_non_smoker)\n",
    "\n",
    "# Conclusion\n",
    "if pdf_smoker > pdf_non_smoker:\n",
    "    print(\"Conclusion: At charge\", given_charge, \", the probability of a smoker is higher than a non-smoker.\")\n",
    "else:\n",
    "    print(\"Conclusion: At charge\", given_charge, \", the probability of a non-smoker is higher than a smoker.\")\n",
    "\n",
    "# Show plot\n",
    "plt.show()"
   ]
  },
  {
   "cell_type": "markdown",
   "id": "564cfc57",
   "metadata": {},
   "source": [
    "<div class=\"warning\" style='padding:0.1em; background-color:#E9D8FD; color:#69337A'>\n",
    "<span>\n",
    "<p style='margin-top:1em; text-align:left'>\n",
    "<b># Question: </b></p>\n",
    "<p style='margin-left:1em;'>\n",
    "<pre>\n",
    "- Repeat the above similar process replacing smoker by sex. Give your insights. \n",
    "</pre>\n",
    "</p>\n",
    "</span>\n",
    "</div>"
   ]
  },
  {
   "cell_type": "code",
   "execution_count": null,
   "id": "72e08181",
   "metadata": {},
   "outputs": [],
   "source": [
    "# Plot histogram for charges classifying by sex\n",
    "plt.figure(figsize=(10, 6))\n",
    "sns.histplot(data=df, x='charges', hue='sex', bins=20, palette={'male': 'blue', 'female': 'orange'}, kde=True)\n",
    "plt.title('Histogram of Charges by Gender', fontsize=16)\n",
    "plt.xlabel('Charges', fontsize=14)\n",
    "plt.ylabel('Frequency', fontsize=14)\n",
    "plt.legend(title='Sex', fontsize=12)\n",
    "plt.grid(True)\n",
    "\n",
    "# Given charge to estimate probability\n",
    "given_charge = 32000\n",
    "\n",
    "# Calculate PDF for both genders at the given charge\n",
    "pdf_male = np.sum(df[df['sex'] == 'male']['charges'] == given_charge) / len(df[df['sex'] == 'male'])\n",
    "pdf_female = np.sum(df[df['sex'] == 'female']['charges'] == given_charge) / len(df[df['sex'] == 'female'])\n",
    "\n",
    "# Print PDF values\n",
    "print(\"PDF for male at charge\", given_charge, \":\", pdf_male)\n",
    "print(\"PDF for female at charge\", given_charge, \":\", pdf_female)\n",
    "\n",
    "# Conclusion\n",
    "if pdf_male > pdf_female:\n",
    "    print(\"Conclusion: At charge\", given_charge, \", the probability of a male is higher than a female.\")\n",
    "else:\n",
    "    print(\"Conclusion: At charge\", given_charge, \", the probability of a female is higher than a male.\")\n",
    "\n",
    "# Show plot\n",
    "plt.show()"
   ]
  },
  {
   "cell_type": "code",
   "execution_count": null,
   "id": "442d5636",
   "metadata": {},
   "outputs": [],
   "source": []
  },
  {
   "cell_type": "markdown",
   "id": "8efd3852",
   "metadata": {},
   "source": [
    "<div class=\"warning\" style='padding:0.1em; background-color:#E9D8FD; color:#69337A'>\n",
    "<span>\n",
    "<p style='margin-top:1em; text-align:left'>\n",
    "<b># Question: </b></p>\n",
    "<p style='margin-left:1em;'>\n",
    "<pre>\n",
    "- Calculate correlation using corr() function and plot a heatmap for the correlation and use palette = 'viridis'\n",
    "</pre>\n",
    "</p>\n",
    "</span>\n",
    "</div>"
   ]
  },
  {
   "attachments": {
    "download%20cmap.png": {
     "image/png": "[encoded data removed]"
    }
   },
   "cell_type": "markdown",
   "id": "95c10aa7",
   "metadata": {},
   "source": [
    "![download%20cmap.png](attachment:download%20cmap.png)"
   ]
  },
  {
   "cell_type": "code",
   "execution_count": null,
   "id": "6e426b52",
   "metadata": {},
   "outputs": [],
   "source": [
    "# Select only numeric columns\n",
    "numeric_df = df.select_dtypes(include=['float64', 'int64'])\n",
    "\n",
    "# Calculate correlation matrix\n",
    "correlation_matrix = numeric_df.corr()\n",
    "\n",
    "# Plot heatmap\n",
    "plt.figure(figsize=(10, 8))\n",
    "sns.heatmap(correlation_matrix, annot=True, cmap='viridis')\n",
    "plt.title('Correlation Heatmap', fontsize=16)\n",
    "plt.xlabel('Features', fontsize=14)\n",
    "plt.ylabel('Features', fontsize=14)\n",
    "plt.show()"
   ]
  },
  {
   "cell_type": "markdown",
   "id": "9617a478",
   "metadata": {},
   "source": [
    "<div class=\"warning\" style='padding:0.1em; background-color:#E9D8FD; color:#69337A'>\n",
    "<span>\n",
    "<p style='margin-top:1em; text-align:left'>\n",
    "<b># Question: </b></p>\n",
    "<p style='margin-left:1em;'>\n",
    "<pre>\n",
    "- A family is requesting you to estimate the price for the insurance given: \n",
    "    condition-1: There are 4 people in family, They are no smokers in the family.\n",
    "    condition-2: They have 2 children with them aged 14 and 17\n",
    "    condition-3: Four people in the family, Father aged 42 and mother aged 40. \n",
    "    Based on the information above, Show them the data that is approximately similar (needn't be exact) to this family. \n",
    "    Collectively, what can be the insurance price collectively to be paid by the family? \n",
    "</pre>\n",
    "</p>\n",
    "</span>\n",
    "</div>"
   ]
  },
  {
   "cell_type": "code",
   "execution_count": null,
   "id": "297491fa",
   "metadata": {},
   "outputs": [],
   "source": [
    "# Filter the dataset based on the given conditions approximately\n",
    "filtered_data = df[\n",
    "    (df['smoker'] == 'no') &             # No smokers in the family\n",
    "    (df['children'] == 2) &              # 2 children\n",
    "    (df['age'].isin([14, 17])) &         # Children aged 14 and 17\n",
    "    (df['age'].isin([42, 40])) &         # Father aged 42 and mother aged 40\n",
    "    (df['sex'] == 'male')                # Assuming the father is male\n",
    "]\n",
    "\n",
    "# Calculate the collective insurance price for the filtered entries\n",
    "collective_price = filtered_data['charges'].sum()\n",
    "\n",
    "# Show the filtered data\n",
    "print(\"Filtered Data:\")\n",
    "print(filtered_data)\n",
    "\n",
    "# Show the collective insurance price\n",
    "print(\"\\nCollective Insurance Price to be Paid by the Family: ${:.2f}\".format(collective_price))"
   ]
  },
  {
   "cell_type": "markdown",
   "id": "d8aa14e1",
   "metadata": {},
   "source": [
    "# <div class=\"alert alert-block alert-success\"><span  style= \"font-family: Times New Roman\"><p style=\"text-align: center;\"> WEEK-II </p> </span> </div>"
   ]
  },
  {
   "cell_type": "markdown",
   "id": "f8d651d9",
   "metadata": {},
   "source": [
    "<div class=\"warning\" style='padding:0.1em; background-color:#E9D8FD; color:#69337A'>\n",
    "<span>\n",
    "<p style='margin-top:1em; text-align:left'>\n",
    "<b># Question: </b></p>\n",
    "<p style='margin-left:1em;'>\n",
    "<pre>\n",
    "- Now, Its time to build a model for prediction. Before that, Encode all the categorical features to train the model. \n",
    "Hints: Use pandas.replace() or pandas.map() to encode the variables\n",
    "You can also use LabelEncoder to label the data. \n",
    "You can also pandas.get_dummies() to segregate the categorical data. \n",
    "</pre>\n",
    "</p>\n",
    "</span>\n",
    "</div>"
   ]
  },
  {
   "cell_type": "code",
   "execution_count": null,
   "id": "2b1d40ea",
   "metadata": {},
   "outputs": [],
   "source": [
    "from sklearn.preprocessing import LabelEncoder\n",
    "\n",
    "# Initialize LabelEncoder\n",
    "label_encoder = LabelEncoder()\n",
    "\n",
    "# Encode categorical columns using LabelEncoder\n",
    "for column in df.columns:\n",
    "    if df[column].dtype == 'object':\n",
    "        df[column] = label_encoder.fit_transform(df[column])\n",
    "\n",
    "# Now, all categorical features are encoded"
   ]
  },
  {
   "cell_type": "code",
   "execution_count": null,
   "id": "d4d056c8",
   "metadata": {},
   "outputs": [],
   "source": []
  },
  {
   "cell_type": "code",
   "execution_count": null,
   "id": "9b6406b2",
   "metadata": {},
   "outputs": [],
   "source": []
  },
  {
   "cell_type": "markdown",
   "id": "848bf3d0",
   "metadata": {},
   "source": [
    "<div class=\"warning\" style='padding:0.1em; background-color:#E9D8FD; color:#69337A'>\n",
    "<span>\n",
    "<p style='margin-top:1em; text-align:left'>\n",
    "<b># Question: </b></p>\n",
    "<p style='margin-left:1em;'>\n",
    "<pre>\n",
    "- Now, Its time to scale the numerical features. \n",
    "You can use any scalers. Standard Scaler, Minmax scaler, Robust Scaler. Mention the reasons. \n",
    "</pre>\n",
    "</p>\n",
    "</span>\n",
    "</div>"
   ]
  },
  {
   "cell_type": "code",
   "execution_count": null,
   "id": "61eb7181",
   "metadata": {},
   "outputs": [],
   "source": [
    "from sklearn.preprocessing import StandardScaler\n",
    "\n",
    "# Select numerical features\n",
    "numerical_features = df.select_dtypes(include=['float64', 'int64'])\n",
    "\n",
    "# Initialize StandardScaler\n",
    "scaler = StandardScaler()\n",
    "\n",
    "# Scale numerical features\n",
    "scaled_features = scaler.fit_transform(numerical_features)"
   ]
  },
  {
   "cell_type": "markdown",
   "id": "1a008300",
   "metadata": {},
   "source": [
    "<div class=\"warning\" style='padding:0.1em; background-color:#E9D8FD; color:#69337A'>\n",
    "<span>\n",
    "<p style='margin-top:1em; text-align:left'>\n",
    "<b># Question: </b></p>\n",
    "<p style='margin-left:1em;'>\n",
    "<pre>\n",
    "- Why do you think we need to scale the features? \n",
    "</pre>\n",
    "</p>\n",
    "</span>\n",
    "</div>"
   ]
  },
  {
   "cell_type": "code",
   "execution_count": null,
   "id": "dc763fc0",
   "metadata": {},
   "outputs": [],
   "source": [
    "Scaling features is important for several reasons:\n",
    "\n",
    "Improved Model Performance: Many machine learning algorithms, such as gradient descent-based methods, perform better when features are on a similar scale. Scaling helps the algorithm converge faster and leads to a better model performance.\n",
    "\n",
    "Equal Weightage: Scaling ensures that all features contribute equally to the learning process. Without scaling, features with larger magnitudes may dominate the learning process, leading to biased results.\n",
    "\n",
    "Regularization: Regularization techniques, such as Ridge and Lasso regression, penalize large coefficients. Scaling features prevents certain features from being unfairly penalized due to their scale.\n",
    "\n",
    "Distance-Based Algorithms: Algorithms that rely on distance calculations, such as k-nearest neighbors (KNN) and support vector machines (SVM), are sensitive to the scale of features. Scaling ensures that distances are calculated accurately and prevents features with larger scales from dominating "
   ]
  },
  {
   "cell_type": "markdown",
   "id": "35fae0c1",
   "metadata": {},
   "source": [
    "<div class=\"warning\" style='padding:0.1em; background-color:#E9D8FD; color:#69337A'>\n",
    "<span>\n",
    "<p style='margin-top:1em; text-align:left'>\n",
    "<b># Question: </b></p>\n",
    "<p style='margin-left:1em;'>\n",
    "<pre>\n",
    "- Remove unnecessary features. \n",
    "</pre>\n",
    "</p>\n",
    "</span>\n",
    "</div>"
   ]
  },
  {
   "cell_type": "code",
   "execution_count": null,
   "id": "b18a6699",
   "metadata": {},
   "outputs": [],
   "source": [
    "#inspect the dataset \n",
    "print(df.head()) #view some first rows of data \n",
    "print(df.info()) #take the info about the data \n",
    "\n",
    "#identify the unnessary features and here region is unnecessary feature to predict insurance charges \n",
    "unnecessary_feature = ['region']\n",
    "#we will clean this feature\n",
    "df_cleaned= df.drop(columns=unnecessary_feature)\n",
    "print(df_cleaned.head())"
   ]
  },
  {
   "cell_type": "markdown",
   "id": "e54d89ed",
   "metadata": {},
   "source": [
    "<div class=\"warning\" style='padding:0.1em; background-color:#70A0AF; color:#FFFFFF'>\n",
    "<span>\n",
    "<p style='margin-top:1em; text-align:left'>\n",
    "<b># Column: </b></p>\n",
    "<p style='margin-left:1em;'>\n",
    "<pre>\n",
    "Now, the data is cleaned and preprocessed. Lets build the model using Linear Regression\n",
    "</pre>\n",
    "</p>\n",
    "</span>\n",
    "</div>"
   ]
  },
  {
   "cell_type": "markdown",
   "id": "35d11376",
   "metadata": {},
   "source": [
    "<div class=\"warning\" style='padding:0.1em; background-color:#E9D8FD; color:#69337A'>\n",
    "<span>\n",
    "<p style='margin-top:1em; text-align:left'>\n",
    "<b># Question: </b></p>\n",
    "<p style='margin-left:1em;'>\n",
    "<pre>\n",
    "- Split the data into train data and test data using train_test_split() in the ratio 4:1\n",
    "</pre>\n",
    "</p>\n",
    "</span>\n",
    "</div>"
   ]
  },
  {
   "cell_type": "code",
   "execution_count": null,
   "id": "ef3da146",
   "metadata": {},
   "outputs": [],
   "source": [
    "# Run this cell\n",
    "X = df.drop('charges',axis=1)\n",
    "y = df['charges']"
   ]
  },
  {
   "cell_type": "code",
   "execution_count": null,
   "id": "173e7dd8",
   "metadata": {},
   "outputs": [],
   "source": [
    "# Run this cell\n",
    "from sklearn.model_selection import train_test_split\n",
    "X_train,X_test,y_train,y_test = train_test_split(X,y,test_size=0.2,random_state=0)\n",
    "print('Train size: ',X_train.shape,y_train.shape)\n",
    "print('Test size: ',X_test.shape,y_test.shape)"
   ]
  },
  {
   "cell_type": "markdown",
   "id": "707cc3f0",
   "metadata": {},
   "source": [
    "<div class=\"warning\" style='padding:0.1em; background-color:#E9D8FD; color:#69337A'>\n",
    "<span>\n",
    "<p style='margin-top:1em; text-align:left'>\n",
    "<b># Question: </b></p>\n",
    "<p style='margin-left:1em;'>\n",
    "<pre>\n",
    "- We need to perform the Linear Regression for the whole data to create a summary and understand the assumptions. Follow the steps and run the below cells. \n",
    "- Run the below cell. You need not right any code in the cells that mentioned \"Run the cell\"\n",
    "</pre>\n",
    "</p>\n",
    "</span>\n",
    "</div>"
   ]
  },
  {
   "cell_type": "code",
   "execution_count": null,
   "id": "3c84adfa",
   "metadata": {},
   "outputs": [],
   "source": [
    "# Run this cell\n",
    "from sklearn.linear_model import LinearRegression\n",
    "\n",
    "linear_reg = LinearRegression()\n",
    "linear_reg.fit(X, y)"
   ]
  },
  {
   "cell_type": "code",
   "execution_count": null,
   "id": "2a1bc612",
   "metadata": {},
   "outputs": [],
   "source": [
    "# Run this cell\n",
    "print(f'Coefficients: {linear_reg.coef_}')\n",
    "print(f'Intercept: {linear_reg.intercept_}')\n",
    "print(f'R^2 score: {linear_reg.score(X, y)}')"
   ]
  },
  {
   "cell_type": "markdown",
   "id": "b9d6aa62",
   "metadata": {},
   "source": [
    "##  <mark><span  style= \"font-family: Times New Roman\">Assumptions: </span> </mark> <a class=\"anchor\" id=\"Assumptions\"></a>"
   ]
  },
  {
   "cell_type": "markdown",
   "id": "e4aef843",
   "metadata": {},
   "source": [
    "<div class=\"warning\" style='padding:0.1em; background-color:#70A0AF; color:#FFFFFF'>\n",
    "<span>\n",
    "<p style='margin-top:1em; text-align:left'>\n",
    "<b># Column: </b></p>\n",
    "<p style='margin-left:1em;'>\n",
    "<pre>\n",
    "Assumptions for Linear Regression:\n",
    "Lets check the extent upto where the assumptions of Linear Regression is valid:\n",
    "</pre>\n",
    "</p>\n",
    "</span>\n",
    "</div>"
   ]
  },
  {
   "cell_type": "markdown",
   "id": "dfa11a0c",
   "metadata": {},
   "source": [
    "<div class=\"warning\" style='padding:0.1em; background-color:#E9D8FD; color:#69337A'>\n",
    "<span>\n",
    "<p style='margin-top:1em; text-align:left'>\n",
    "<b># Question: </b></p>\n",
    "<p style='margin-left:1em;'>\n",
    "<pre>\n",
    "- We need to perform Ordinary least squares to understand these assumptions. \n",
    "- Run the below cell. You need not right any code in the cells that are mentioned \"Run the cell\"\n",
    "</pre>\n",
    "</p>\n",
    "</span>\n",
    "</div>"
   ]
  },
  {
   "cell_type": "code",
   "execution_count": null,
   "id": "b5886efd",
   "metadata": {},
   "outputs": [],
   "source": [
    "# Run this cell to understand the summary.\n",
    "import statsmodels.api as sm\n",
    "X_constant = sm.add_constant(X)\n",
    "lin_reg = sm.OLS(y,X_constant).fit()\n",
    "lin_reg.summary()"
   ]
  },
  {
   "cell_type": "markdown",
   "id": "4a0ed051",
   "metadata": {},
   "source": [
    "<div class=\"warning\" style='padding:0.1em; background-color:#70A0AF; color:#FFFFFF'>\n",
    "<span>\n",
    "<p style='margin-top:1em; text-align:left'>\n",
    "<b># Assumption: </b></p>\n",
    "<p style='margin-left:1em;'>\n",
    "<pre>\n",
    "Assumption-1 : No Autocorrelation.\n",
    "From the above summary, Note the Durbin Watson value.\n",
    "Durbin-Watson test is a statistical test that works for finding autocorrelation value. It lies generally between 0-4.\n",
    "</pre>\n",
    "</p>\n",
    "</span>\n",
    "</div>"
   ]
  },
  {
   "cell_type": "markdown",
   "id": "f9ba5e75",
   "metadata": {},
   "source": [
    "<div class=\"warning\" style='padding:0.1em; background-color:#E9D8FD; color:#69337A'>\n",
    "<span>\n",
    "<p style='margin-top:1em; text-align:left'>\n",
    "<b># Question: </b></p>\n",
    "<p style='margin-left:1em;'>\n",
    "<pre>\n",
    "- Input the Durbin watson value and Write an if statement to print:\n",
    "\"Positive Correlation\" for value greater than 2\n",
    "\"Zero correlation\" for value equal to 2\n",
    "\"Negative Correlation\" for value lesser than 2\n",
    "</pre>\n",
    "</p>\n",
    "</span>\n",
    "</div>"
   ]
  },
  {
   "cell_type": "code",
   "execution_count": null,
   "id": "362f9603",
   "metadata": {},
   "outputs": [],
   "source": [
    "# Run the cell below\n",
    "# this plot is called autocorrelation plot. you will be working on this later in the course.\n",
    "import statsmodels.tsa.api as smt\n",
    "acf = smt.graphics.plot_acf(lin_reg.resid,alpha=0.05)\n",
    "acf.show()"
   ]
  },
  {
   "cell_type": "markdown",
   "id": "923672a2",
   "metadata": {},
   "source": [
    "<div class=\"warning\" style='padding:0.1em; background-color:#70A0AF; color:#FFFFFF'>\n",
    "<span>\n",
    "<p style='margin-top:1em; text-align:left'>\n",
    "<b># Assumption: </b></p>\n",
    "<p style='margin-left:1em;'>\n",
    "<pre>\n",
    "Assumption-2 : Normality of Residuals.\n",
    "From the above summary, Note the Jarque bera value.\n",
    "Normality is an assumption for many statistical tests. Jarque-bera value is a test for checking normality. \n",
    "We are performing this here to check the normality for the different of actual and predicted values.\n",
    "</pre>\n",
    "</p>\n",
    "</span>\n",
    "</div>"
   ]
  },
  {
   "cell_type": "code",
   "execution_count": null,
   "id": "0560c8f4",
   "metadata": {},
   "outputs": [],
   "source": [
    "# Run the below cell\n",
    "from scipy import stats\n",
    "print(stats.jarque_bera(lin_reg.resid))"
   ]
  },
  {
   "cell_type": "markdown",
   "id": "33d595ea",
   "metadata": {},
   "source": [
    "<div class=\"warning\" style='padding:0.1em; background-color:#E9D8FD; color:#69337A'>\n",
    "<span>\n",
    "<p style='margin-top:1em; text-align:left'>\n",
    "<b># Question: </b></p>\n",
    "<p style='margin-left:1em;'>\n",
    "<pre>\n",
    "- Input the Jarque bera value and p-value as 0.05 and Write an if statement to print:\n",
    "\"Normal distribution\" for value greater than p-value\n",
    "\"Non-normal distribution\" for value lesser than p-value\n",
    "</pre>\n",
    "</p>\n",
    "</span>\n",
    "</div>"
   ]
  },
  {
   "cell_type": "code",
   "execution_count": null,
   "id": "47ea0335",
   "metadata": {},
   "outputs": [],
   "source": [
    "jarque_bera_value = 713.975\n",
    "p_value = 0.05\n",
    "\n",
    "if jarque_bera_value > p_value:\n",
    "    print(\"Normal distribution\")\n",
    "else:\n",
    "    print(\"Non-normal distribution\")"
   ]
  },
  {
   "cell_type": "code",
   "execution_count": null,
   "id": "6a126b26",
   "metadata": {},
   "outputs": [],
   "source": []
  },
  {
   "cell_type": "code",
   "execution_count": null,
   "id": "92f958cb",
   "metadata": {},
   "outputs": [],
   "source": [
    "# Validate your above answer by running the cell\n",
    "import seaborn as sns\n",
    "sns.distplot(lin_reg.resid)\n",
    "plt.show()"
   ]
  },
  {
   "cell_type": "code",
   "execution_count": null,
   "id": "0843ed54",
   "metadata": {},
   "outputs": [],
   "source": []
  },
  {
   "cell_type": "markdown",
   "id": "b6827074",
   "metadata": {},
   "source": [
    "<div class=\"warning\" style='padding:0.1em; background-color:#70A0AF; color:#FFFFFF'>\n",
    "<span>\n",
    "<p style='margin-top:1em; text-align:left'>\n",
    "<b># Assumption: </b></p>\n",
    "<p style='margin-left:1em;'>\n",
    "<pre>\n",
    "Asssumption 3 - Linearity of residuals\n",
    "Run the below cell to check the Linearity in the model\n",
    "</pre>\n",
    "</p>\n",
    "</span>\n",
    "</div>"
   ]
  },
  {
   "cell_type": "code",
   "execution_count": null,
   "id": "247df057",
   "metadata": {},
   "outputs": [],
   "source": [
    "%matplotlib inline\n",
    "%config InlineBackend.figure_format ='retina'\n",
    "import statsmodels.stats.api as sms\n",
    "sns.set_style('darkgrid')\n",
    "sns.mpl.rcParams['figure.figsize'] = (15.0, 9.0)\n",
    "\n",
    "# function to test the linearity. Input the model(Linear Regression and the output)\n",
    "def linearity_test(model, y):\n",
    "    '''\n",
    "    Function for visually inspecting the assumption of linearity in a linear regression model.\n",
    "    It plots observed vs. predicted values and residuals vs. predicted values.\n",
    "    \n",
    "    Args:\n",
    "    * model - fitted OLS model from statsmodels\n",
    "    * y - observed values\n",
    "    '''\n",
    "    # Finding the predictions from the model\n",
    "    fit_values = model.predict()\n",
    "    #Residuals \n",
    "    resids = model.resid\n",
    "\n",
    "    fig, ax = plt.subplots(1,2)\n",
    "    \n",
    "    # Plotting a regression plot for the above found values\n",
    "    sns.regplot(x=fit_values, y=y, lowess=True, ax=ax[0], line_kws={'color': 'red'})\n",
    "    ax[0].set_title('Observed vs. Predicted Values', fontsize=16)\n",
    "    ax[0].set(xlabel='Predicted', ylabel='Observed')\n",
    "\n",
    "    sns.regplot(x=fit_values, y=resids, lowess=True, ax=ax[1], line_kws={'color': 'red'})\n",
    "    ax[1].set_title('Residuals vs. Predicted Values', fontsize=16)\n",
    "    ax[1].set(xlabel='Predicted', ylabel='Residuals')\n",
    "    \n",
    "linearity_test(lin_reg, y)  "
   ]
  },
  {
   "cell_type": "markdown",
   "id": "6f997168",
   "metadata": {},
   "source": [
    "<div class=\"warning\" style='padding:0.1em; background-color:#E9D8FD; color:#69337A'>\n",
    "<span>\n",
    "<p style='margin-top:1em; text-align:left'>\n",
    "<b># Question: </b></p>\n",
    "<p style='margin-left:1em;'>\n",
    "<pre>\n",
    "- Run the below cell to perform Rainbow test. \n",
    "Rainbow test is performed to test linearity. Even though there is no good linearity, it can be used to achieve the linearity from a subsample data.\n",
    "</pre>\n",
    "</p>\n",
    "</span>\n",
    "</div>"
   ]
  },
  {
   "cell_type": "code",
   "execution_count": null,
   "id": "86c1dd6b",
   "metadata": {},
   "outputs": [],
   "source": [
    "import statsmodels.api as sm\n",
    "sm.stats.diagnostic.linear_rainbow(res=lin_reg, frac=0.5)"
   ]
  },
  {
   "cell_type": "code",
   "execution_count": null,
   "id": "09827ec0",
   "metadata": {},
   "outputs": [],
   "source": [
    "# Run the below cell and understand the residual distribution\n",
    "import scipy.stats as stats\n",
    "import pylab\n",
    "from statsmodels.graphics.gofplots import ProbPlot\n",
    "# We are plotting studentized residuals\n",
    "st_residual = lin_reg.get_influence().resid_studentized_internal\n",
    "stats.probplot(st_residual, dist=\"norm\", plot = pylab)\n",
    "plt.show()"
   ]
  },
  {
   "cell_type": "code",
   "execution_count": null,
   "id": "4bf3bbd2",
   "metadata": {},
   "outputs": [],
   "source": [
    "lin_reg.resid.mean()\n",
    "# As the value is very much close it zero .We can say linearity is present."
   ]
  },
  {
   "cell_type": "markdown",
   "id": "ac75a3a5",
   "metadata": {},
   "source": [
    "<div class=\"warning\" style='padding:0.1em; background-color:#70A0AF; color:#FFFFFF'>\n",
    "<span>\n",
    "<p style='margin-top:1em; text-align:left'>\n",
    "<b># Assumption: </b></p>\n",
    "<p style='margin-left:1em;'>\n",
    "<pre>\n",
    "Assumption 4 - Homoscedasticity_test(using goldfeld test) OR (Beusch-Wagon Test)\n",
    "Run the below cell to check the homoscedasticity in the model\n",
    "</pre>\n",
    "</p>\n",
    "</span>\n",
    "</div>"
   ]
  },
  {
   "cell_type": "markdown",
   "id": "a800e4f3",
   "metadata": {},
   "source": [
    "**We are plotting the same as above plots, but for checking homoscedasticity (uniform variance)**"
   ]
  },
  {
   "cell_type": "code",
   "execution_count": null,
   "id": "72076daf",
   "metadata": {},
   "outputs": [],
   "source": [
    "from statsmodels.compat import lzip\n",
    "from statsmodels.compat import lzip\n",
    "\n",
    "model = lin_reg\n",
    "resids = model.resid\n",
    "fit_values = model.predict()\n",
    "resids_standardized = model.get_influence().resid_studentized_internal\n",
    "fig, ax = plt.subplots(1,2)\n",
    "\n",
    "# Regression plots for residual values and predicted values\n",
    "sns.regplot(x=fit_values, y=resids, lowess=True, ax=ax[0], line_kws={'color': 'red'})\n",
    "ax[0].set_title('Residuals vs Fitted', fontsize=16)\n",
    "ax[0].set(xlabel='Fitted Values', ylabel='Residuals')\n",
    "\n",
    "# Regression plots for scaled residuals and predicted values\n",
    "sns.regplot(x=fit_values, y=np.sqrt(np.abs(resids_standardized)), lowess=True, ax=ax[1], line_kws={'color': 'red'})\n",
    "ax[1].set_title('Scale-Location', fontsize=16)\n",
    "ax[1].set(xlabel='Fitted Values', ylabel='sqrt(abs(Residuals))')"
   ]
  },
  {
   "cell_type": "code",
   "execution_count": null,
   "id": "ec6ef903",
   "metadata": {},
   "outputs": [],
   "source": [
    "import statsmodels.api as sm\n",
    "from statsmodels.compat import lzip\n",
    "# Goldfeld quandt test is used to check the homoscedasticity in regression analysis\n",
    "# Run the below cell\n",
    "name = ['F statistic', 'p-value']\n",
    "test = sm.het_goldfeldquandt(model.resid, model.model.exog)\n",
    "lzip(name, test)\n",
    "# WE fail to reject the null hypothesis which is Homoscedasticity is present and we can continue with the original regression"
   ]
  },
  {
   "cell_type": "code",
   "execution_count": null,
   "id": "4f878132",
   "metadata": {},
   "outputs": [],
   "source": [
    "print('p-value greater than alpha hence we failed to reject null hypothesis. Hence, It is homoscedastic in nature.')"
   ]
  },
  {
   "cell_type": "markdown",
   "id": "59dfbc87",
   "metadata": {},
   "source": [
    "<div class=\"warning\" style='padding:0.1em; background-color:#70A0AF; color:#FFFFFF'>\n",
    "<span>\n",
    "<p style='margin-top:1em; text-align:left'>\n",
    "<b># Assumption: </b></p>\n",
    "<p style='margin-left:1em;'>\n",
    "<pre>\n",
    "Assumption 5- NO MULTI COLLINEARITY\n",
    "Run the below cell to check the Multicollinearity in the model\n",
    "We use Variation inflation factors. The name itself says to determine the factors that inflate the variance if any additional variable is added to the regression.\n",
    "</pre>\n",
    "</p>\n",
    "</span>\n",
    "</div>"
   ]
  },
  {
   "cell_type": "code",
   "execution_count": null,
   "id": "447e110d",
   "metadata": {
    "scrolled": true
   },
   "outputs": [],
   "source": [
    "from statsmodels.stats.outliers_influence import variance_inflation_factor\n",
    "\n",
    "# We added this constant in summary\n",
    "# The constant term is checked with every feature in the data and the measure is calculated. \n",
    "# If there is a very huge value for vif, then there might be chance of high collinearity \n",
    "# Here, there are no such high ranges, so it is fine to assume no multicollinearity and proceed with original regression.\n",
    "vif = [variance_inflation_factor(X_constant.values, i) for i in range(X_constant.shape[1])]\n",
    "pd.set_option(\"display.Max_columns\",None)\n",
    "pd.DataFrame({'vif': vif[1:]}, index=X.columns).T"
   ]
  },
  {
   "cell_type": "markdown",
   "id": "30606987",
   "metadata": {},
   "source": [
    "### By now, we have completed checking the assumptions for Linear Regression. \n",
    "### Now, we are ready to build the model with train and test data and check the working of the model."
   ]
  },
  {
   "cell_type": "code",
   "execution_count": null,
   "id": "9de3b1d3",
   "metadata": {},
   "outputs": [],
   "source": [
    "# As the data is split into train data and test data, Lets start the model\n",
    "# Step-1: Create an instance of the Linear Regression, use fit() to fit the model to the input data\n",
    "# Step-2: Use predict() and predict the output for test data"
   ]
  },
  {
   "cell_type": "code",
   "execution_count": null,
   "id": "2cebb0f2",
   "metadata": {},
   "outputs": [],
   "source": [
    "from sklearn.linear_model import LinearRegression\n",
    "\n",
    "# Step 1: Create an instance of the Linear Regression model\n",
    "model = LinearRegression()\n",
    "\n",
    "# Step 2: Fit the model to the training data\n",
    "model.fit(X_train, y_train)\n",
    "\n",
    "# Step 3: Use the trained model to make predictions on the test data\n",
    "y_pred = model.predict(X_test)"
   ]
  },
  {
   "cell_type": "markdown",
   "id": "62049336",
   "metadata": {},
   "source": [
    "##  <mark><span  style= \"font-family: Times New Roman\">Evaluation metrics </span> </mark> <a class=\"anchor\" id=\"Evaluation_metrics\"></a>"
   ]
  },
  {
   "cell_type": "code",
   "execution_count": null,
   "id": "127ef2c7",
   "metadata": {},
   "outputs": [],
   "source": [
    "# Calculate the metrics mean_absolute_error and mean_squared_error\n",
    "\n",
    "from sklearn.metrics import mean_absolute_error, mean_squared_error\n",
    "\n",
    "# Calculate Mean Absolute Error (MAE)\n",
    "mae = mean_absolute_error(y_test, y_pred)\n",
    "\n",
    "# Calculate Mean Squared Error (MSE)\n",
    "mse = mean_squared_error(y_test, y_pred)\n",
    "\n",
    "print(\"Mean Absolute Error (MAE):\", mae)\n",
    "print(\"Mean Squared Error (MSE):\", mse)"
   ]
  },
  {
   "cell_type": "code",
   "execution_count": null,
   "id": "94cd6f96",
   "metadata": {},
   "outputs": [],
   "source": []
  },
  {
   "cell_type": "code",
   "execution_count": null,
   "id": "ca2173d7",
   "metadata": {},
   "outputs": [],
   "source": [
    "# Calculate the metrics r2_score and adjusted_r2_score for both train and test data\n",
    "\n",
    "from sklearn.metrics import r2_score\n",
    "import numpy as np\n",
    "\n",
    "# Calculate R-squared score for train data\n",
    "r2_train = r2_score(y_train, model.predict(X_train))\n",
    "\n",
    "# Calculate R-squared score for test data\n",
    "r2_test = r2_score(y_test, y_pred)\n",
    "\n",
    "# Calculate adjusted R-squared score for train data\n",
    "n_train = len(y_train)\n",
    "p_train = X_train.shape[1]\n",
    "adjusted_r2_train = 1 - (1 - r2_train) * (n_train - 1) / (n_train - p_train - 1)\n",
    "\n",
    "# Calculate adjusted R-squared score for test data\n",
    "n_test = len(y_test)\n",
    "p_test = X_test.shape[1]\n",
    "adjusted_r2_test = 1 - (1 - r2_test) * (n_test - 1) / (n_test - p_test - 1)\n",
    "\n",
    "print(\"R-squared score (Train):\", r2_train)\n",
    "print(\"Adjusted R-squared score (Train):\", adjusted_r2_train)\n",
    "print(\"R-squared score (Test):\", r2_test)\n",
    "print(\"Adjusted R-squared score (Test):\", adjusted_r2_test)"
   ]
  },
  {
   "cell_type": "code",
   "execution_count": null,
   "id": "6725ca72",
   "metadata": {},
   "outputs": [],
   "source": [
    "# Prediction on training Data\n",
    "# Make predictions on the training data\n",
    "y_pred_train = model.predict(X_train)\n",
    "\n",
    "# Display the predicted values for the training data\n",
    "print(\"Predicted values for training data:\")\n",
    "print(y_pred_train)"
   ]
  },
  {
   "cell_type": "code",
   "execution_count": null,
   "id": "08b08536",
   "metadata": {},
   "outputs": [],
   "source": [
    "# R square in train data\n",
    "from sklearn.metrics import r2_score\n",
    "\n",
    "# Calculate R-squared score for training data\n",
    "r2_train = r2_score(y_train, y_pred_train)\n",
    "\n",
    "print(\"R-squared score on training data:\", r2_train)"
   ]
  },
  {
   "cell_type": "code",
   "execution_count": null,
   "id": "3b4158b4",
   "metadata": {},
   "outputs": [],
   "source": [
    "# Adjusted R square in train data\n",
    "\n",
    "# Calculate the adjusted R-squared score for the training data\n",
    "adjusted_r2_train = 1 - (1 - r2_train) * (n_train - 1) / (n_train - p_train - 1)\n",
    "\n",
    "print(\"Adjusted R-squared score (Train):\", adjusted_r2_train)"
   ]
  },
  {
   "cell_type": "code",
   "execution_count": null,
   "id": "61b090d9",
   "metadata": {},
   "outputs": [],
   "source": [
    "# Prediction on test Data\n",
    "# Make predictions on the test data\n",
    "y_pred_test = model.predict(X_test)\n",
    "\n",
    "# Display the predicted values for the test data\n",
    "print(\"Predicted values for test data:\")\n",
    "print(y_pred_test)"
   ]
  },
  {
   "cell_type": "code",
   "execution_count": null,
   "id": "92c58127",
   "metadata": {},
   "outputs": [],
   "source": [
    "# R square in test data\n",
    "# Calculate the R-squared score for the test data\n",
    "r2_test = model.score(X_test, y_test)\n",
    "\n",
    "print(\"R-squared score (Test):\", r2_test)"
   ]
  },
  {
   "cell_type": "code",
   "execution_count": null,
   "id": "ca0738c3",
   "metadata": {},
   "outputs": [],
   "source": [
    "# Adjusted R square in train data\n",
    "# Calculate the adjusted R-squared score for the test data\n",
    "adjusted_r2_test = 1 - (1 - r2_test) * (n_test - 1) / (n_test - p_test - 1)\n",
    "\n",
    "print(\"Adjusted R-squared score (Test):\", adjusted_r2_test)"
   ]
  },
  {
   "cell_type": "markdown",
   "id": "bd4535d8",
   "metadata": {},
   "source": [
    "<div class=\"warning\" style='padding:0.1em; background-color:#E9D8FD; color:#69337A'>\n",
    "<span>\n",
    "<p style='margin-top:1em; text-align:left'>\n",
    "<b># Question: </b></p>\n",
    "<p style='margin-left:1em;'>\n",
    "<pre>\n",
    "- What do you infer from both r squared value and adjusted r squared value?\n",
    "</pre>\n",
    "</p>\n",
    "</span>\n",
    "</div>"
   ]
  },
  {
   "cell_type": "code",
   "execution_count": null,
   "id": "a228dfcc",
   "metadata": {},
   "outputs": [],
   "source": [
    "The R-square value and adjusted R-squared value are both measures of the goodness of fit of a regression model. They provide insight into how well the independent variables explain the variability of the dependent variable. "
   ]
  },
  {
   "cell_type": "markdown",
   "id": "78f15e99",
   "metadata": {},
   "source": [
    "## <mark><span  style= \"font-family: Times New Roman\">Hyperparameter Tuning (Optional) </span> </mark> <a class=\"anchor\" id=\"Hyperparameter_Tuning\"></a>"
   ]
  },
  {
   "cell_type": "code",
   "execution_count": null,
   "id": "50973137",
   "metadata": {},
   "outputs": [],
   "source": [
    "# Hyperparameters are the parameters of the model working inside an algorithm to improve model's accuracy. \n",
    "# The below listed are hyperparameters of Linear Regression using get_params() function. \n",
    "# We are then performing the Linear Regression with several combinations using GridSearchCV.\n",
    "# GridSearchCV takes the combinations and the evaluates it as a grid to identify the best performed set."
   ]
  },
  {
   "cell_type": "code",
   "execution_count": null,
   "id": "81e8465b",
   "metadata": {},
   "outputs": [],
   "source": [
    "from sklearn.model_selection import GridSearchCV"
   ]
  },
  {
   "cell_type": "code",
   "execution_count": null,
   "id": "c21cadaf",
   "metadata": {},
   "outputs": [],
   "source": [
    "LinearRegression().get_params()"
   ]
  },
  {
   "cell_type": "code",
   "execution_count": null,
   "id": "48afc0cb",
   "metadata": {},
   "outputs": [],
   "source": [
    "# We will use either Lasso or Ridge Regression to regularize the data, reducing the overfitting degree.\n",
    "from sklearn.linear_model import Ridge\n",
    "from sklearn.model_selection import GridSearchCV, RepeatedKFold\n",
    "\n",
    "# Create a Ridge Regression model\n",
    "model = Ridge()\n",
    "\n",
    "# Define the hyperparameter space\n",
    "space = {\n",
    "    'solver': ['svd', 'cholesky', 'lsqr', 'sag'],\n",
    "    'alpha': [0.01, 0.1, 1, 10],\n",
    "    'fit_intercept': [True, False]\n",
    "}\n",
    "\n",
    "# Create cross-validation strategy\n",
    "cv = RepeatedKFold(n_splits=10, n_repeats=3, random_state=1)\n",
    "\n",
    "# Create GridSearchCV object\n",
    "search = GridSearchCV(model, space, scoring='neg_mean_squared_error', cv=cv)\n",
    "\n",
    "# Fit GridSearchCV to the data\n",
    "result = search.fit(X_train, y_train)\n",
    "\n",
    "# Print best score and best hyperparameters\n",
    "print('Best Score:', -result.best_score_)  # Negate the score to get the actual value\n",
    "print('Best Hyperparameters:', result.best_params_) "
   ]
  },
  {
   "cell_type": "code",
   "execution_count": null,
   "id": "6562c302",
   "metadata": {},
   "outputs": [],
   "source": [
    "# The above code and explanation is given for reference. If you'd like to perform Hyperparameter tuning, Do it using Lasso Regression model. "
   ]
  },
  {
   "cell_type": "markdown",
   "id": "61347a78",
   "metadata": {},
   "source": [
    "## <mark><span  style= \"font-family: Times New Roman\">Build a predictive system </span> </mark> <a class=\"anchor\" id=\"Build\"></a>"
   ]
  },
  {
   "cell_type": "markdown",
   "id": "0a6b15af",
   "metadata": {},
   "source": [
    "<div class=\"warning\" style='padding:0.1em; background-color:#E9D8FD; color:#69337A'>\n",
    "<span>\n",
    "<p style='margin-top:1em; text-align:left'>\n",
    "<b># Question: </b></p>\n",
    "<p style='margin-left:1em;'>\n",
    "<pre>\n",
    "Give the input data to the model - ((31,1,25.74,0,1,0)) and \n",
    "The above data has to be standardized so find (x_new = x_old-mean/std)\n",
    "You need to reshape the data. So, use reshape(1,-1) and predict the price\n",
    "You will get the standardized data, shift it to the usual price using x_old = x_new*std+mean\n",
    "</pre>\n",
    "</p>\n",
    "</span>\n",
    "</div>"
   ]
  },
  {
   "cell_type": "code",
   "execution_count": null,
   "id": "269843d9",
   "metadata": {},
   "outputs": [],
   "source": [
    "# Import necessary libraries\n",
    "from sklearn.preprocessing import StandardScaler\n",
    "\n",
    "# Standardize the input data\n",
    "scaler = StandardScaler()\n",
    "X_new_scaled = scaler.fit_transform([[31, 1, 25.74, 0, 1, 0]])\n",
    "\n",
    "# Reshape the standardized data\n",
    "X_new_scaled_reshaped = X_new_scaled.reshape(1, -1)\n",
    "\n",
    "# Predict the price using the trained model\n",
    "predicted_price_scaled = result.predict(X_new_scaled_reshaped)\n",
    "\n",
    "# Convert the predicted price back to the original scale\n",
    "predicted_price = predicted_price_scaled * scaler.scale_ + scaler.mean_\n",
    "\n",
    "print(\"Predicted Price:\", predicted_price)\n"
   ]
  },
  {
   "cell_type": "markdown",
   "id": "e4fae9db",
   "metadata": {},
   "source": [
    "# <div class=\"alert alert-block alert-success\"><span  style= \"font-family: Times New Roman\"><p style=\"text-align: center;\"> Happy Learning!!! </p> </span> </div>"
   ]
  },
  {
   "cell_type": "code",
   "execution_count": null,
   "id": "9a1b5258",
   "metadata": {},
   "outputs": [],
   "source": []
  }
 ],
 "metadata": {
  "kernelspec": {
   "display_name": "Python 3 (ipykernel)",
   "language": "python",
   "name": "python3"
  },
  "language_info": {
   "codemirror_mode": {
    "name": "ipython",
    "version": 3
   },
   "file_extension": ".py",
   "mimetype": "text/x-python",
   "name": "python",
   "nbconvert_exporter": "python",
   "pygments_lexer": "ipython3",
   "version": "3.9.12"
  }
 },
 "nbformat": 4,
 "nbformat_minor": 5
}
